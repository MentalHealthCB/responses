{
 "cells": [
  {
   "cell_type": "code",
   "execution_count": 2,
   "metadata": {},
   "outputs": [],
   "source": [
    "import nltk\n",
    "from nltk.stem.lancaster import LancasterStemmer\n",
    "stemmer = LancasterStemmer()\n",
    "\n",
    "# things we need for Tensorflow\n",
    "import numpy as np\n",
    "import tflearn\n",
    "import tensorflow as tf\n",
    "import random"
   ]
  },
  {
   "cell_type": "code",
   "execution_count": 3,
   "metadata": {},
   "outputs": [],
   "source": [
    "# restore all of our data structures\n",
    "import pickle\n",
    "data = pickle.load( open( \"training_data\", \"rb\" ) )\n",
    "words = data['words']\n",
    "classes = data['classes']\n",
    "train_x = data['train_x']\n",
    "train_y = data['train_y']\n",
    "\n",
    "# import our chat-bot intents file\n",
    "import json\n",
    "with open('intents.json') as json_data:\n",
    "    intents = json.load(json_data)"
   ]
  },
  {
   "cell_type": "code",
   "execution_count": 4,
   "metadata": {},
   "outputs": [
    {
     "name": "stdout",
     "output_type": "stream",
     "text": [
      "WARNING:tensorflow:From C:\\ProgramData\\Anaconda3\\lib\\site-packages\\tflearn\\initializations.py:164: calling TruncatedNormal.__init__ (from tensorflow.python.ops.init_ops) with dtype is deprecated and will be removed in a future version.\n",
      "Instructions for updating:\n",
      "Call initializer instance with the dtype argument instead of passing it to the constructor\n"
     ]
    }
   ],
   "source": [
    "# Build neural network\n",
    "net = tflearn.input_data(shape=[None, len(train_x[0])])\n",
    "net = tflearn.fully_connected(net, 8)\n",
    "net = tflearn.fully_connected(net, 8)\n",
    "net = tflearn.fully_connected(net, len(train_y[0]), activation='softmax')\n",
    "net = tflearn.regression(net)\n",
    "\n",
    "# Define model and setup tensorboard\n",
    "model = tflearn.DNN(net, tensorboard_dir='tflearn_logs')"
   ]
  },
  {
   "cell_type": "code",
   "execution_count": 5,
   "metadata": {},
   "outputs": [],
   "source": [
    "def clean_up_sentence(sentence):\n",
    "    # tokenize the pattern\n",
    "    sentence_words = nltk.word_tokenize(sentence)\n",
    "    # stem each word\n",
    "    sentence_words = [stemmer.stem(word.lower()) for word in sentence_words]\n",
    "    return sentence_words\n",
    "\n",
    "# return bag of words array: 0 or 1 for each word in the bag that exists in the sentence\n",
    "def bow(sentence, words, show_details=False):\n",
    "    # tokenize the pattern\n",
    "    sentence_words = clean_up_sentence(sentence)\n",
    "    # bag of words\n",
    "    bag = [0]*len(words)  \n",
    "    for s in sentence_words:\n",
    "        for i,w in enumerate(words):\n",
    "            if w == s: \n",
    "                bag[i] = 1\n",
    "                if show_details:\n",
    "                    print (\"found in bag: %s\" % w)\n",
    "\n",
    "    return(np.array(bag))"
   ]
  },
  {
   "cell_type": "code",
   "execution_count": 6,
   "metadata": {},
   "outputs": [
    {
     "name": "stdout",
     "output_type": "stream",
     "text": [
      "[0 0 0 0 0 0 0 0 0 0 0 0 0 0 0 0 0 0 0 0 0 0 0 0 0 0 0 0 0 0 0 0 0 0 0 0 0\n",
      " 0 0 0 0 0 0 0 0 0 0 0 0 0 0 0 0 0 0 0 1 0 0 0 0 0 0 0 0 0 0 0 0 0 0 0 0 0\n",
      " 0 0 0 0 0 0 0 0 0 0 0 0 0 0 0 0 0 0 0 0 0 0 0 0 0 0 0 0 0 0 0 0 0 0 0 1 0]\n",
      "['addiction', 'affirmation_distraction_addiction', 'anxiety', 'challenge_thought_anxiety', 'depression', 'explain_distraction_addiction', 'explainreccdist_depression', 'first_substance_addiction', 'go_plan_for_things', 'goodbye', 'greeting', 'how_wreck', 'ideas_wrecking', 'need_help', 'need_help_adiction', 'need_ideas_addiction', 'no_distraction_addiction', 'no_distraction_addiction_after', 'plan_for_thing', 'ques_to_q1_anxiety', 'question1_anxiety', 'question1_depression', 'question_to_question1_depression', 'question_to_question2_anxiety', 'question_to_question2_depression', 'question_to_question3_depression', 'questtion_to_question4_depression', 'stating_problem', 'thanks', 'the_end', 'the_end_bad', 'things_addiction', 'what_to_do_addiction2', 'work_on_it', 'work_on_it_anxiety', 'wrote_everything_addiction']\n"
     ]
    }
   ],
   "source": [
    "p = bow(\"is your shop open today?\", words)\n",
    "print (p)\n",
    "print (classes)"
   ]
  },
  {
   "cell_type": "code",
   "execution_count": 7,
   "metadata": {},
   "outputs": [
    {
     "name": "stdout",
     "output_type": "stream",
     "text": [
      "INFO:tensorflow:Restoring parameters from D:\\COLLEGE\\BE Project\\github_CB\\responses\\model.tflearn\n"
     ]
    }
   ],
   "source": [
    "# load our saved model\n",
    "model.load('./model.tflearn')"
   ]
  },
  {
   "cell_type": "code",
   "execution_count": 8,
   "metadata": {},
   "outputs": [],
   "source": [
    "yeah_dict = {'problem_got': ('response_to_condolence', 'How would you categorize this issue 1.Angry, 2.Anxiety, 3.Depression'), 'depressed':'response_to_condolence_depression', 'write_thought':'affirmation_to_ques1_depression', 'catastrophe':'affirmation_to_question2_depression', 'write_thought_anxiety':'affirmation_to_ques1_anxiety', 'future_assuming':'affirmation_ques2_anxiety', 'distortion':'affirmation_to_question3_depression', 'emotionalreasoning':'afftoques4_depression', 'write_thought_anxiety':'affirmation_to_ques1_anxiety', 'future_assuming':'affirmation_ques2_anxiety'}\n",
    "no_dict = {'write_thought':'negation_to_ques1_depression', 'catastrophe':'negation_to_question2_depression','distortion':'negation_to_question4_depression', 'rewritethoughts':'negationtoques4_depression', 'write_thought_anxiety':'negation_to_ques1_anxiety', 'future_assuming':'affirmation_negation_ques2_anxiety', 'emotionalreasoning':'negationtoques4_depression'}\n",
    "okay_dict = {'depressed':'response_to_condolence_depression','problem_got':'response_to_condolence','questoques1explained':'REquestion_to_question1_depression', 'questoques1recognized':'question2_depression', 'ques2explained':'requestion_to_question2_depression','makingUnderstandques2':'question3_depression','ques3explained':'got_it_depression', 'everythingExplained':'repquestion_to_question3_depression', 'gotchaques3':'question4_depression', 'ques4explained':'affToQuestoques4_depression', 'questoques1explained_anxiety':'reques_to_ques1_anxiety', 'questoques1confirmed_anxiety':'question2_anxiety', 'future_assuming_explanation':'reques_to_ques2_anxiety', 'affirmation_anxiety':'okay_ques2_anxiety'}"
   ]
  },
  {
   "cell_type": "code",
   "execution_count": 11,
   "metadata": {},
   "outputs": [],
   "source": [
    "# create a data structure to hold user context\n",
    "context = {}\n",
    "\n",
    "ERROR_THRESHOLD = 0.25\n",
    "def classify(sentence):\n",
    "    # generate probabilities from the model\n",
    "    results = model.predict([bow(sentence, words)])[0]\n",
    "    \n",
    "    # filter out predictions below a threshold\n",
    "    results = [[i,r] for i,r in enumerate(results) if r>ERROR_THRESHOLD]\n",
    "    # sort by strength of probability\n",
    "    results.sort(key=lambda x: x[1], reverse=True)\n",
    "    return_list = []\n",
    "    for r in results:\n",
    "        return_list.append((classes[r[0]], r[1]))\n",
    "    # return tuple of intent and probability\n",
    "    return return_list\n",
    "\n",
    "def response(sentence, userID='123', show_details=True):\n",
    "    results = classify(sentence)\n",
    "    for i in intents['intents']:\n",
    "                # find a tag matching the first result\n",
    "                if sentence in ['yes','yeah']:\n",
    "#                     print('in yeah loop')\n",
    "                    tag = yeah_dict[context[userID]]\n",
    "                    if i['tag'] == tag:\n",
    "                        resp = random.choice(i['responses'])\n",
    "                        if 'context_set' in i:\n",
    "                            context[userID] = i['context_set']\n",
    "#                         print('new context  ', context[userID])\n",
    "                    #if 'context_filter' in i:\n",
    "                        #print('context set in first if : ',context[userID])\n",
    "                        #if context[userID]==i['context_filter']:\n",
    "                            #print('response in second if :', i['responses'])\n",
    "                            #resp = random.choice(i['responses'])\n",
    "                        #if 'context_set' in i:\n",
    "                            #if show_details: print ('context in third if :', i['context_set'])\n",
    "                            #context[userID] = i['context_set']\n",
    "\n",
    "                        return('first yeah  '+str(resp))\n",
    "                elif sentence in ['no','nope', 'not at all']:\n",
    "#                     print('in no loop')\n",
    "                    tag = no_dict[context[userID]]\n",
    "                    if i['tag'] == tag:\n",
    "                        resp = random.choice(i['responses'])\n",
    "                        if 'context_set' in i:\n",
    "                            context[userID] = i['context_set']\n",
    "#                         print('new context  ', context[userID])\n",
    "                    #if 'context_filter' in i:\n",
    "                        #print('context set in first if : ',context[userID])\n",
    "                        #if context[userID]==i['context_filter']:\n",
    "                            #print('response in second if :', i['responses'])\n",
    "                            #resp = random.choice(i['responses'])\n",
    "                        #if 'context_set' in i:\n",
    "                            #if show_details: print ('context in third if :', i['context_set'])\n",
    "                            #context[userID] = i['context_set']\n",
    "\n",
    "                        return('first  '+str(resp))\n",
    "                elif sentence in ['okay','cool', 'gotcha', 'it is', 'got it', 'alright', 'it does']:\n",
    "#                     print('in okay loop')\n",
    "                    tag = okay_dict[context[userID]]\n",
    "                    if i['tag'] == tag:\n",
    "                        resp = random.choice(i['responses'])\n",
    "                        if 'context_set' in i:\n",
    "                            context[userID] = i['context_set']\n",
    "#                         print('new context  ', context[userID])\n",
    "                    #if 'context_filter' in i:\n",
    "                        #print('context set in first if : ',context[userID])\n",
    "                        #if context[userID]==i['context_filter']:\n",
    "                            #print('response in second if :', i['responses'])\n",
    "                            #resp = random.choice(i['responses'])\n",
    "                        #if 'context_set' in i:\n",
    "                            #if show_details: print ('context in third if :', i['context_set'])\n",
    "                            #context[userID] = i['context_set']\n",
    "\n",
    "                        return('first  '+str(resp))\n",
    "    # if we have a classification then find the matching intent tag\n",
    "    if results:\n",
    "#         print(results)\n",
    "        # loop as long as there are matches to process\n",
    "        for i in results:\n",
    "#             print(i)\n",
    "            for j in intents['intents']:\n",
    "                \n",
    "                if i[0]==j['tag']:\n",
    "#                     try:\n",
    "# #                         print('past context  ', context[userID])\n",
    "#                     except:\n",
    "#                         pass\n",
    "                    if not 'context_filter' in j or \\\n",
    "                        (userID in context and 'context_filter' in j and j['context_filter'] == context[userID]):\n",
    "#                         print('in second if')\n",
    "                        if show_details: print ('in first if tag:', j['tag'])\n",
    "#                         resp = random.choice(j['responses'])\n",
    "                        if 'context_set' in j: \n",
    "                            context[userID] = j['context_set']\n",
    "#                             print('new context  ', context[userID])\n",
    "                        return(resp)\n",
    "                \n",
    "\n",
    "        "
   ]
  },
  {
   "cell_type": "code",
   "execution_count": null,
   "metadata": {},
   "outputs": [],
   "source": [
    "%mkdir templates -p"
   ]
  },
  {
   "cell_type": "code",
   "execution_count": null,
   "metadata": {},
   "outputs": [],
   "source": [
    "%%writefile templates/index.html\n",
    "\n",
    "<!DOCTYPE html>\n",
    "<html>\n",
    "  <title>Restaurant Chatbot</title>\n",
    "  <head>\n",
    "    <link href='https://fonts.googleapis.com/css?family=Alegreya' rel='stylesheet'>\n",
    "    <link rel=\"icon\" href=\"\">\n",
    "    <script src=\"https://ajax.googleapis.com/ajax/libs/jquery/3.2.1/jquery.min.js\"></script>\n",
    "    <style>\n",
    "      body {\n",
    "        font-family: monospace;\n",
    "        background-position: center;\n",
    "        background-repeat: no-repeat;\n",
    "        background-size: cover;\n",
    "        background-attachment: fixed;\n",
    "      }\n",
    "      h1 {\n",
    "        border: 1px solid white;\n",
    "        border-radius: 5px;\n",
    "        color: #ce9e62;\n",
    "        display: inline-block;Alegreya\n",
    "        font-size: 3em;\n",
    "        margin: 5;\n",
    "        padding: 10px;\n",
    "      }\n",
    "      #chatbox {\n",
    "        margin-top: auto;\n",
    "        margin-bottom: auto;\n",
    "        margin-left: auto;\n",
    "        margin-right: auto;\n",
    "        width: 40%;\n",
    "        margin-top: 60px;\n",
    "      }\n",
    "      #userInput {\n",
    "        margin-left: auto;\n",
    "        margin-right: auto;\n",
    "        width: 40%;\n",
    "        margin-top: 60px;\n",
    "      }\n",
    "      #textInput {\n",
    "        width: 90%;\n",
    "        border: none;\n",
    "        border-bottom: 3px solid black;\n",
    "        font-family: 'Alegreya';\n",
    "        font-size: 17px;\n",
    "      }\n",
    "      .userText {\n",
    "        color: white;\n",
    "        background-color: #4b6777; \n",
    "        font-family: 'Alegreya';\n",
    "        font-size: 17px;\n",
    "        text-align: center;\n",
    "        line-height: 30px;\n",
    "        border-radius: 5px;\n",
    "      }\n",
    "      .userText span {\n",
    "        padding:10px;\n",
    "        border-radius: 5px;\n",
    "      }\n",
    "      .botText {\n",
    "        color: #ce9e62;\n",
    "        background-color: #2c2c2c;\n",
    "        font-family: 'Alegreya';\n",
    "        font-size: 17px;\n",
    "        text-align: center;\n",
    "        line-height: 30px;\n",
    "        border-radius: 5px;\n",
    "      }\n",
    "      .botText span {\n",
    "        padding: 10px;\n",
    "        border-radius: 5px;\n",
    "      }\n",
    "      .boxed {\n",
    "        margin-left: auto;\n",
    "        margin-right: auto;\n",
    "        width: 100%;\n",
    "        margin-top: 60px;\n",
    "        border-radius: 5px;\n",
    "      }\n",
    "      input[type=text] {\n",
    "        bottom: 0;\n",
    "        width: 40%;\n",
    "        padding: 12px 20px;\n",
    "        margin: 8px 0;\n",
    "        box-sizing: border-box;\n",
    "        position: fixed;\n",
    "        border-radius: 5px;\n",
    "      }\n",
    "    </style>\n",
    "  </head>\n",
    "  <body background=\"{{ url_for('static', filename='images/slider.jpg') }}\">\n",
    "    <img />\n",
    "    <center>\n",
    "      <h1>\n",
    "      Restaurant Chatbot\n",
    "      </h1>\n",
    "    </center>\n",
    "    <div class=\"boxed\">\n",
    "      <div>\n",
    "        <div id=\"chatbox\">\n",
    "        </div>\n",
    "      </div>\n",
    "        <div id=\"userInput\">\n",
    "          <input id=\"nameInput\" type=\"text\" name=\"msg\" placeholder=\"Ask me anything...\" />\n",
    "        </div>\n",
    "<script>\n",
    "        function getBotResponse() {\n",
    "          var rawText = $(\"#nameInput\").val();\n",
    "          var userHtml = '<p class=\"userText\"><span>' + rawText + \"</span></p>\";\n",
    "          $(\"#nameInput\").val(\"\");\n",
    "          $(\"#chatbox\").append(userHtml);\n",
    "          document\n",
    "            .getElementById(\"userInput\")\n",
    "            .scrollIntoView({ block: \"start\", behavior: \"smooth\" });\n",
    "          $.get(\"/get\", { msg: rawText }).done(function(data) {\n",
    "            var botHtml = '<p class=\"botText\"><span>' + data + \"</span></p>\";\n",
    "            $(\"#chatbox\").append(botHtml);\n",
    "            document\n",
    "              .getElementById(\"userInput\")\n",
    "              .scrollIntoView({ block: \"start\", behavior: \"smooth\" });\n",
    "          });\n",
    "        }\n",
    "        $(\"#nameInput\").keypress(function(e) {\n",
    "          if (e.which == 13) {\n",
    "            getBotResponse();\n",
    "          }\n",
    "        });\n",
    "</script>\n",
    "</div>\n",
    "</body>\n",
    "</html>"
   ]
  },
  {
   "cell_type": "code",
   "execution_count": null,
   "metadata": {},
   "outputs": [
    {
     "name": "stdout",
     "output_type": "stream",
     "text": [
      " * Serving Flask app \"__main__\" (lazy loading)\n",
      " * Environment: production\n",
      "   WARNING: This is a development server. Do not use it in a production deployment.\n",
      "   Use a production WSGI server instead.\n",
      " * Debug mode: off\n"
     ]
    },
    {
     "name": "stderr",
     "output_type": "stream",
     "text": [
      " * Running on http://127.0.0.1:5000/ (Press CTRL+C to quit)\n"
     ]
    },
    {
     "name": "stdout",
     "output_type": "stream",
     "text": [
      " * Running on http://bd979e46e386.ngrok.io\n",
      " * Traffic stats available on http://127.0.0.1:4040\n"
     ]
    },
    {
     "name": "stderr",
     "output_type": "stream",
     "text": [
      "127.0.0.1 - - [14/Feb/2021 18:56:05] \"\u001b[37mGET / HTTP/1.1\u001b[0m\" 200 -\n",
      "127.0.0.1 - - [14/Feb/2021 18:56:06] \"\u001b[33mGET /static/images/slider.jpg HTTP/1.1\u001b[0m\" 404 -\n",
      "[2021-02-14 18:56:08,387] ERROR in app: Exception on /get [GET]\n",
      "Traceback (most recent call last):\n",
      "  File \"C:\\ProgramData\\Anaconda3\\lib\\site-packages\\flask\\app.py\", line 2447, in wsgi_app\n",
      "    response = self.full_dispatch_request()\n",
      "  File \"C:\\ProgramData\\Anaconda3\\lib\\site-packages\\flask\\app.py\", line 1952, in full_dispatch_request\n",
      "    rv = self.handle_user_exception(e)\n",
      "  File \"C:\\ProgramData\\Anaconda3\\lib\\site-packages\\flask\\app.py\", line 1821, in handle_user_exception\n",
      "    reraise(exc_type, exc_value, tb)\n",
      "  File \"C:\\ProgramData\\Anaconda3\\lib\\site-packages\\flask\\_compat.py\", line 39, in reraise\n",
      "    raise value\n",
      "  File \"C:\\ProgramData\\Anaconda3\\lib\\site-packages\\flask\\app.py\", line 1950, in full_dispatch_request\n",
      "    rv = self.dispatch_request()\n",
      "  File \"C:\\ProgramData\\Anaconda3\\lib\\site-packages\\flask\\app.py\", line 1936, in dispatch_request\n",
      "    return self.view_functions[rule.endpoint](**req.view_args)\n",
      "  File \"<ipython-input-13-304a25089f1f>\", line 14, in bot_response\n",
      "    return str(response(user_text))\n",
      "  File \"<ipython-input-11-e863bc6f8238>\", line 98, in response\n",
      "    return(resp)\n",
      "UnboundLocalError: local variable 'resp' referenced before assignment\n",
      "127.0.0.1 - - [14/Feb/2021 18:56:08] \"\u001b[35m\u001b[1mGET /get?msg=hi HTTP/1.1\u001b[0m\" 500 -\n"
     ]
    },
    {
     "name": "stdout",
     "output_type": "stream",
     "text": [
      "in first if tag: greeting\n"
     ]
    }
   ],
   "source": [
    "from flask_ngrok import run_with_ngrok\n",
    "from flask import Flask, request, render_template\n",
    "app = Flask(__name__)\n",
    "run_with_ngrok(app)   \n",
    "  \n",
    "@app.route('/')\n",
    "def index():\n",
    "  return render_template('index.html')\n",
    "\n",
    "\n",
    "@app.route('/get')\n",
    "def bot_response():\n",
    "  user_text = request.args.get(\"msg\")\n",
    "  return str(response(user_text))\n",
    "  \n",
    "  \n",
    "app.run()"
   ]
  },
  {
   "cell_type": "markdown",
   "metadata": {},
   "source": [
    "else:\n",
    "                    print('in else loop')\n",
    "                    if 'context_filter' in j and j['context_filter'] == context[userID]:\n",
    "                        resp = random.choice(j['responses'])\n",
    "                        print('tag: ', j['tag'])\n",
    "                        if 'context_set' in j: \n",
    "                            context[userID] = j['context_set']\n",
    "                            print('new context  ', context[userID])\n",
    "                        return(resp)"
   ]
  },
  {
   "cell_type": "markdown",
   "metadata": {},
   "source": [
    "while results:\n",
    "            for i in intents['intents']:\n",
    "               \n",
    "                    if i['tag'] == results[0][0]:\n",
    "                        print('past context ',context, ' tag:', i['tag'])\n",
    "\n",
    "                        if not 'context_filter' in i or \\\n",
    "                            (userID in context and 'context_filter' in i and i['context_filter'] == context[userID]):\n",
    "                            if show_details: print ('in first if tag:', i['tag'])\n",
    "                            resp = random.choice(i['responses'])\n",
    "\n",
    "                        if 'context_filter' in i:\n",
    "                            if show_details: print('context_filter in second if : ', i['context_filter'])\n",
    "                            resp = random.choice(i['responses'])\n",
    "\n",
    "                            # set context for this intent if necessary\n",
    "                        if 'context_set' in i:\n",
    "                            if show_details: print ('context in third if : ', i['context_set'])\n",
    "                            context[userID] = i['context_set']\n",
    "                            print('new context ', context)\n",
    "\n",
    "                        if 'context_filter' in i:\n",
    "                            if show_details: print('context_filter in fourth if : ', i['context_filter'])\n",
    "\n",
    "\n",
    "                        return print('second  ' ,resp)\n"
   ]
  },
  {
   "cell_type": "code",
   "execution_count": null,
   "metadata": {
    "scrolled": false
   },
   "outputs": [],
   "source": [
    "response('hi')"
   ]
  },
  {
   "cell_type": "code",
   "execution_count": null,
   "metadata": {},
   "outputs": [],
   "source": [
    "response('help me feel better')"
   ]
  },
  {
   "cell_type": "code",
   "execution_count": null,
   "metadata": {},
   "outputs": [],
   "source": [
    "response('im having problem with')"
   ]
  },
  {
   "cell_type": "code",
   "execution_count": null,
   "metadata": {},
   "outputs": [],
   "source": [
    "response('it is')"
   ]
  },
  {
   "cell_type": "code",
   "execution_count": null,
   "metadata": {},
   "outputs": [],
   "source": [
    "response('depression')"
   ]
  },
  {
   "cell_type": "code",
   "execution_count": null,
   "metadata": {},
   "outputs": [],
   "source": [
    "response('it is')"
   ]
  },
  {
   "cell_type": "code",
   "execution_count": null,
   "metadata": {},
   "outputs": [],
   "source": [
    "response('work on it')"
   ]
  },
  {
   "cell_type": "code",
   "execution_count": null,
   "metadata": {},
   "outputs": [],
   "source": [
    "response('challenge my thought')"
   ]
  },
  {
   "cell_type": "code",
   "execution_count": null,
   "metadata": {},
   "outputs": [],
   "source": [
    "response('i have this problem')"
   ]
  },
  {
   "cell_type": "code",
   "execution_count": null,
   "metadata": {},
   "outputs": [],
   "source": [
    "response('not at all')"
   ]
  },
  {
   "cell_type": "code",
   "execution_count": null,
   "metadata": {},
   "outputs": [],
   "source": [
    "response('catastrophe')"
   ]
  },
  {
   "cell_type": "code",
   "execution_count": null,
   "metadata": {},
   "outputs": [],
   "source": [
    "response('it is')"
   ]
  },
  {
   "cell_type": "code",
   "execution_count": null,
   "metadata": {},
   "outputs": [],
   "source": [
    "response('yes')"
   ]
  },
  {
   "cell_type": "code",
   "execution_count": null,
   "metadata": {},
   "outputs": [],
   "source": [
    "response('got it')"
   ]
  },
  {
   "cell_type": "code",
   "execution_count": null,
   "metadata": {},
   "outputs": [],
   "source": [
    "response('no')"
   ]
  },
  {
   "cell_type": "code",
   "execution_count": null,
   "metadata": {},
   "outputs": [],
   "source": [
    "response('no')"
   ]
  },
  {
   "cell_type": "code",
   "execution_count": null,
   "metadata": {},
   "outputs": [],
   "source": [
    "response('hi')"
   ]
  },
  {
   "cell_type": "code",
   "execution_count": null,
   "metadata": {},
   "outputs": [],
   "source": [
    "response('anxiety')"
   ]
  },
  {
   "cell_type": "code",
   "execution_count": null,
   "metadata": {},
   "outputs": [],
   "source": [
    "response('work on it')"
   ]
  },
  {
   "cell_type": "code",
   "execution_count": null,
   "metadata": {},
   "outputs": [],
   "source": [
    "response('challenge my thought')"
   ]
  },
  {
   "cell_type": "code",
   "execution_count": null,
   "metadata": {},
   "outputs": [],
   "source": [
    "response('i have this problem')"
   ]
  },
  {
   "cell_type": "code",
   "execution_count": null,
   "metadata": {},
   "outputs": [],
   "source": [
    "response('what is that?')"
   ]
  },
  {
   "cell_type": "code",
   "execution_count": null,
   "metadata": {},
   "outputs": [],
   "source": [
    "response('got it')"
   ]
  },
  {
   "cell_type": "code",
   "execution_count": null,
   "metadata": {},
   "outputs": [],
   "source": [
    "response('yes')"
   ]
  },
  {
   "cell_type": "code",
   "execution_count": null,
   "metadata": {},
   "outputs": [],
   "source": [
    "response('okay')"
   ]
  },
  {
   "cell_type": "code",
   "execution_count": null,
   "metadata": {},
   "outputs": [],
   "source": [
    "response('no')"
   ]
  },
  {
   "cell_type": "code",
   "execution_count": null,
   "metadata": {},
   "outputs": [],
   "source": [
    "response('no')"
   ]
  },
  {
   "cell_type": "code",
   "execution_count": null,
   "metadata": {},
   "outputs": [],
   "source": []
  }
 ],
 "metadata": {
  "kernelspec": {
   "display_name": "Python 3",
   "language": "python",
   "name": "python3"
  },
  "language_info": {
   "codemirror_mode": {
    "name": "ipython",
    "version": 3
   },
   "file_extension": ".py",
   "mimetype": "text/x-python",
   "name": "python",
   "nbconvert_exporter": "python",
   "pygments_lexer": "ipython3",
   "version": "3.8.3"
  }
 },
 "nbformat": 4,
 "nbformat_minor": 4
}
