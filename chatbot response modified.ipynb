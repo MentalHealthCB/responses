{
 "cells": [
  {
   "cell_type": "code",
   "execution_count": 1,
   "metadata": {},
   "outputs": [
    {
     "name": "stdout",
     "output_type": "stream",
     "text": [
      "WARNING:tensorflow:From C:\\Users\\samit\\anaconda3\\envs\\myenv\\lib\\site-packages\\tensorflow\\python\\compat\\v2_compat.py:96: disable_resource_variables (from tensorflow.python.ops.variable_scope) is deprecated and will be removed in a future version.\n",
      "Instructions for updating:\n",
      "non-resource variables are not supported in the long term\n",
      "Scipy not supported!\n"
     ]
    }
   ],
   "source": [
    "import nltk\n",
    "from nltk.stem.lancaster import LancasterStemmer\n",
    "stemmer = LancasterStemmer()\n",
    "\n",
    "# things we need for Tensorflow\n",
    "import numpy as np\n",
    "import tflearn\n",
    "import tensorflow as tf\n",
    "import random"
   ]
  },
  {
   "cell_type": "code",
   "execution_count": 2,
   "metadata": {},
   "outputs": [],
   "source": [
    "# restore all of our data structures\n",
    "import pickle\n",
    "data = pickle.load( open( \"training_data\", \"rb\" ) )\n",
    "words = data['words']\n",
    "classes = data['classes']\n",
    "train_x = data['train_x']\n",
    "train_y = data['train_y']\n",
    "\n",
    "# import our chat-bot intents file\n",
    "import json\n",
    "with open('intents.json') as json_data:\n",
    "    intents = json.load(json_data)"
   ]
  },
  {
   "cell_type": "code",
   "execution_count": 3,
   "metadata": {},
   "outputs": [
    {
     "name": "stdout",
     "output_type": "stream",
     "text": [
      "WARNING:tensorflow:From C:\\Users\\samit\\anaconda3\\envs\\myenv\\lib\\site-packages\\tflearn\\initializations.py:165: calling TruncatedNormal.__init__ (from tensorflow.python.ops.init_ops) with dtype is deprecated and will be removed in a future version.\n",
      "Instructions for updating:\n",
      "Call initializer instance with the dtype argument instead of passing it to the constructor\n"
     ]
    }
   ],
   "source": [
    "# Build neural network\n",
    "net = tflearn.input_data(shape=[None, len(train_x[0])])\n",
    "net = tflearn.fully_connected(net, 8)\n",
    "net = tflearn.fully_connected(net, 8)\n",
    "net = tflearn.fully_connected(net, len(train_y[0]), activation='softmax')\n",
    "net = tflearn.regression(net)\n",
    "\n",
    "# Define model and setup tensorboard\n",
    "model = tflearn.DNN(net, tensorboard_dir='tflearn_logs')"
   ]
  },
  {
   "cell_type": "code",
   "execution_count": 4,
   "metadata": {},
   "outputs": [],
   "source": [
    "def clean_up_sentence(sentence):\n",
    "    # tokenize the pattern\n",
    "    sentence_words = nltk.word_tokenize(sentence)\n",
    "    # stem each word\n",
    "    sentence_words = [stemmer.stem(word.lower()) for word in sentence_words]\n",
    "    return sentence_words\n",
    "\n",
    "# return bag of words array: 0 or 1 for each word in the bag that exists in the sentence\n",
    "def bow(sentence, words, show_details=False):\n",
    "    # tokenize the pattern\n",
    "    sentence_words = clean_up_sentence(sentence)\n",
    "    # bag of words\n",
    "    bag = [0]*len(words)  \n",
    "    for s in sentence_words:\n",
    "        for i,w in enumerate(words):\n",
    "            if w == s: \n",
    "                bag[i] = 1\n",
    "                if show_details:\n",
    "                    print (\"found in bag: %s\" % w)\n",
    "\n",
    "    return(np.array(bag))"
   ]
  },
  {
   "cell_type": "code",
   "execution_count": 5,
   "metadata": {},
   "outputs": [
    {
     "name": "stdout",
     "output_type": "stream",
     "text": [
      "[0 0 0 0 0 0 0 0 0 0 0 0 0 0 0 0 0 0 0 0 0 0 0 0 0 0 0 0 0 0 0 0 0 0 0 0 0\n",
      " 0 0 0 0 0 0 0 0 0 0 0 0 0 0 0 0 0 0 0 0 0 0 0 0 0 0 0 0 0 0 0 0 0 0 0 0 0\n",
      " 0 0 0 1 0 0 0 0 0 0 0 0 0 0 0 0 0 0 0 0 0 0 0 0 0 0 0 0 0 0 0 0 0 0 0 0 0\n",
      " 0 0 0 0 0 0 0 0 0 0 0 0 0 0 0 0 0 0 0 0 0 0 0 0 0 0 0 0 0 0 0 0 0 0 0 0 0\n",
      " 0 0 0 0 0 0 0 0 0 0 0 0 0 1 0]\n",
      "['ANGER', 'REquestion_to_question1_depression', 'actual_rewrite_angry', 'addiction', 'affToQuestoques4_depression', 'aff_distraction_addiction', 'aff_fs_addiction', 'aff_power_tool_addiction', 'aff_question2_angry', 'aff_question3_angry', 'affirmation_distraction_addiction', 'affirmation_negation_ques2_anxiety', 'affirmation_ques2_anxiety', 'affirmation_to_ques1_anxiety', 'affirmation_to_ques1_depression', 'affirmation_to_question2_depression', 'affirmation_to_question3_depression', 'afftoques4_depression', 'after_rewrite_angry', 'after_whos_island', 'almos_end_grief', 'anxiety', 'asking_name_grief', 'better_feel_angry', 'challenge_thought', 'challenge_thought_anxiety', 'condolence_addiction', 'console2_grief', 'console_grief', 'depression', 'done_questions_angry', 'end_angry', 'end_sharing_angry', 'even_more_grief', 'explain_distraction_addiction', 'explain_next_addiction', 'explainreccdist_depression', 'first_substance_addiction', 'go_plan_for_things', 'go_rewrite2_angry', 'go_rewrite_angry', 'go_wreck', 'good_imagining', 'goodbye', 'got_it_depression', 'green_power_tool_addiction', 'greeting', 'grief', 'grief2', 'grief3', 'grief4', 'grief5', 'how_didit_happen_grief', 'how_feel_angry', 'how_wreck', 'ideas_wrecking', 'just sharing_grief', 'just_shared_angry', 'just_sharing_angry', 'nametold_grief', 'need_help', 'need_help_adiction', 'need_ideas_addiction', 'neg_end_grief', 'neg_question1_angry', 'neg_question2_angry', 'neg_question3_angry', 'negation_to_ques1_anxiety', 'negation_to_ques1_depression', 'negation_to_question2_depression', 'negation_to_question4_depression', 'negationtoques4_depression', 'no_distraction_addiction', 'not_difficult_grief', 'not_theonlyone_grief', 'okay_ques2_anxiety', 'plan_for_thing', 'pos_end_grief', 'ques_to_q1_anxiety', 'question1_anxiety', 'question1_depression', 'question2_angry', 'question2_anxiety', 'question2_depression', 'question3_angry', 'question3_depression', 'question4_depression', 'question_1_angry', 'question_to_question1_depression', 'question_to_question2_anxiety', 'question_to_question2_depression', 'question_to_question3_depression', 'questtion_to_question4_depression', 'repquestion_to_question3_depression', 'reques_to_ques1_anxiety', 'reques_to_ques2_anxiety', 'requestion_to_question2_depression', 'response_to_condolence', 'response_to_condolence_depression', 'rewrite_angry', 'stating_problem', 'telling_more_grief', 'thanks', 'thanks_for_sticking', 'the_end', 'the_end_bad', 'things_addiction', 'things_done_together_grief', 'told_even_more_grief', 'tryagain2_feel_angry', 'tryagain_feel_angry', 'what_to_do_addiction2', 'what_to_do_grief', 'whos_on_island', 'work_on_it', 'work_on_it_anger', 'work_on_it_anxiety', 'work_on_it_grief', 'worse_feel_angry', 'write_everything_addiction', 'wrote_everything_addiction', 'yes_question1_angry']\n"
     ]
    }
   ],
   "source": [
    "p = bow(\"is your shop open today?\", words)\n",
    "print (p)\n",
    "print (classes)"
   ]
  },
  {
   "cell_type": "code",
   "execution_count": 6,
   "metadata": {},
   "outputs": [
    {
     "name": "stdout",
     "output_type": "stream",
     "text": [
      "INFO:tensorflow:Restoring parameters from C:\\Users\\samit\\MACHINE LEARNING\\chatbot BE project\\New\\model.tflearn\n"
     ]
    }
   ],
   "source": [
    "# load our saved model\n",
    "model.load('./model.tflearn')"
   ]
  },
  {
   "cell_type": "code",
   "execution_count": 7,
   "metadata": {},
   "outputs": [],
   "source": [
    "yeah_dict = {'problem_got': ('response_to_condolence', 'How would you categorize this issue 1.Angry, 2.Anxiety, 3.Depression'), 'depressed':'response_to_condolence_depression', 'write_thought':'affirmation_to_ques1_depression', 'catastrophe':'affirmation_to_question2_depression', 'write_thought_anxiety':'affirmation_to_ques1_anxiety', 'future_assuming':'affirmation_ques2_anxiety', 'distortion':'affirmation_to_question3_depression', 'emotionalreasoning':'afftoques4_depression', 'write_thought_anxiety':'affirmation_to_ques1_anxiety', 'future_assuming':'affirmation_ques2_anxiety'}\n",
    "no_dict = {'write_thought':'negation_to_ques1_depression', 'catastrophe':'negation_to_question2_depression','distortion':'negation_to_question4_depression', 'rewritethoughts':'negationtoques4_depression', 'write_thought_anxiety':'negation_to_ques1_anxiety', 'future_assuming':'affirmation_negation_ques2_anxiety', 'emotionalreasoning':'negationtoques4_depression'}\n",
    "okay_dict = {'depressed':'response_to_condolence_depression','problem_got':'response_to_condolence','questoques1explained':'REquestion_to_question1_depression', 'questoques1recognized':'question2_depression', 'ques2explained':'requestion_to_question2_depression','makingUnderstandques2':'question3_depression','ques3explained':'got_it_depression', 'everythingExplained':'repquestion_to_question3_depression', 'gotchaques3':'question4_depression', 'ques4explained':'affToQuestoques4_depression', 'questoques1explained_anxiety':'reques_to_ques1_anxiety', 'questoques1confirmed_anxiety':'question2_anxiety', 'future_assuming_explanation':'reques_to_ques2_anxiety', 'affirmation_anxiety':'okay_ques2_anxiety'}"
   ]
  },
  {
   "cell_type": "code",
   "execution_count": 25,
   "metadata": {},
   "outputs": [],
   "source": [
    "# create a data structure to hold user context\n",
    "context = {}\n",
    "\n",
    "ERROR_THRESHOLD = 0.25\n",
    "def classify(sentence):\n",
    "    # generate probabilities from the model\n",
    "    results = model.predict([bow(sentence, words)])[0]\n",
    "    \n",
    "    # filter out predictions below a threshold\n",
    "    results = [[i,r] for i,r in enumerate(results) if r>ERROR_THRESHOLD]\n",
    "    # sort by strength of probability\n",
    "    results.sort(key=lambda x: x[1], reverse=True)\n",
    "    return_list = []\n",
    "    for r in results:\n",
    "        return_list.append((classes[r[0]], r[1]))\n",
    "    # return tuple of intent and probability\n",
    "    return return_list\n",
    "\n",
    "def response(sentence, userID='123', show_details=True):\n",
    "    results = classify(sentence)\n",
    "    for i in intents['intents']:\n",
    "                # find a tag matching the first result\n",
    "                if sentence in ['yes','yeah']:\n",
    "                    print('in yeah loop')\n",
    "                    tag = yeah_dict[context[userID]]\n",
    "                    if i['tag'] == tag:\n",
    "                        resp = random.choice(i['responses'])\n",
    "                        if 'context_set' in i:\n",
    "                            context[userID] = i['context_set']\n",
    "                        print('new context  ', context[userID])\n",
    "                    #if 'context_filter' in i:\n",
    "                        #print('context set in first if : ',context[userID])\n",
    "                        #if context[userID]==i['context_filter']:\n",
    "                            #print('response in second if :', i['responses'])\n",
    "                            #resp = random.choice(i['responses'])\n",
    "                        #if 'context_set' in i:\n",
    "                            #if show_details: print ('context in third if :', i['context_set'])\n",
    "                            #context[userID] = i['context_set']\n",
    "\n",
    "                        return(print('first yeah  ',resp))\n",
    "                elif sentence in ['no','nope', 'not at all']:\n",
    "                    print('in no loop')\n",
    "                    tag = no_dict[context[userID]]\n",
    "                    if i['tag'] == tag:\n",
    "                        resp = random.choice(i['responses'])\n",
    "                        if 'context_set' in i:\n",
    "                            context[userID] = i['context_set']\n",
    "                        print('new context  ', context[userID])\n",
    "                    #if 'context_filter' in i:\n",
    "                        #print('context set in first if : ',context[userID])\n",
    "                        #if context[userID]==i['context_filter']:\n",
    "                            #print('response in second if :', i['responses'])\n",
    "                            #resp = random.choice(i['responses'])\n",
    "                        #if 'context_set' in i:\n",
    "                            #if show_details: print ('context in third if :', i['context_set'])\n",
    "                            #context[userID] = i['context_set']\n",
    "\n",
    "                        return(print('first  ',resp))\n",
    "                elif sentence in ['okay','cool', 'gotcha', 'it is', 'got it', 'alright', 'it does']:\n",
    "                    print('in okay loop')\n",
    "                    tag = okay_dict[context[userID]]\n",
    "                    if i['tag'] == tag:\n",
    "                        resp = random.choice(i['responses'])\n",
    "                        if 'context_set' in i:\n",
    "                            context[userID] = i['context_set']\n",
    "                        print('new context  ', context[userID])\n",
    "                    #if 'context_filter' in i:\n",
    "                        #print('context set in first if : ',context[userID])\n",
    "                        #if context[userID]==i['context_filter']:\n",
    "                            #print('response in second if :', i['responses'])\n",
    "                            #resp = random.choice(i['responses'])\n",
    "                        #if 'context_set' in i:\n",
    "                            #if show_details: print ('context in third if :', i['context_set'])\n",
    "                            #context[userID] = i['context_set']\n",
    "\n",
    "                        return(print('first  ',resp))\n",
    "    # if we have a classification then find the matching intent tag\n",
    "    if results:\n",
    "        print(results)\n",
    "        # loop as long as there are matches to process\n",
    "        for i in results:\n",
    "            print(i)\n",
    "            for j in intents['intents']:\n",
    "                \n",
    "                if i[0]==j['tag']:\n",
    "                    try:\n",
    "                        print('past context  ', context[userID])\n",
    "                    except:\n",
    "                        pass\n",
    "                    if not 'context_filter' in j or \\\n",
    "                        (userID in context and 'context_filter' in j and j['context_filter'] == context[userID]):\n",
    "                        print('in second if')\n",
    "                        if show_details: print ('in first if tag:', j['tag'])\n",
    "                        resp = random.choice(j['responses'])\n",
    "                        if 'context_set' in j: \n",
    "                            context[userID] = j['context_set']\n",
    "                            print('new context  ', context[userID])\n",
    "                        return(resp)\n",
    "                \n",
    "\n",
    "        "
   ]
  },
  {
   "cell_type": "markdown",
   "metadata": {},
   "source": [
    "else:\n",
    "                    print('in else loop')\n",
    "                    if 'context_filter' in j and j['context_filter'] == context[userID]:\n",
    "                        resp = random.choice(j['responses'])\n",
    "                        print('tag: ', j['tag'])\n",
    "                        if 'context_set' in j: \n",
    "                            context[userID] = j['context_set']\n",
    "                            print('new context  ', context[userID])\n",
    "                        return(resp)"
   ]
  },
  {
   "cell_type": "markdown",
   "metadata": {},
   "source": [
    "while results:\n",
    "            for i in intents['intents']:\n",
    "               \n",
    "                    if i['tag'] == results[0][0]:\n",
    "                        print('past context ',context, ' tag:', i['tag'])\n",
    "\n",
    "                        if not 'context_filter' in i or \\\n",
    "                            (userID in context and 'context_filter' in i and i['context_filter'] == context[userID]):\n",
    "                            if show_details: print ('in first if tag:', i['tag'])\n",
    "                            resp = random.choice(i['responses'])\n",
    "\n",
    "                        if 'context_filter' in i:\n",
    "                            if show_details: print('context_filter in second if : ', i['context_filter'])\n",
    "                            resp = random.choice(i['responses'])\n",
    "\n",
    "                            # set context for this intent if necessary\n",
    "                        if 'context_set' in i:\n",
    "                            if show_details: print ('context in third if : ', i['context_set'])\n",
    "                            context[userID] = i['context_set']\n",
    "                            print('new context ', context)\n",
    "\n",
    "                        if 'context_filter' in i:\n",
    "                            if show_details: print('context_filter in fourth if : ', i['context_filter'])\n",
    "\n",
    "\n",
    "                        return print('second  ' ,resp)\n"
   ]
  },
  {
   "cell_type": "code",
   "execution_count": 9,
   "metadata": {
    "scrolled": false
   },
   "outputs": [
    {
     "name": "stdout",
     "output_type": "stream",
     "text": [
      "[('greeting', 0.9993413)]\n",
      "('greeting', 0.9993413)\n",
      "in second if\n",
      "in first if tag: greeting\n"
     ]
    },
    {
     "data": {
      "text/plain": [
       "'Hello, How can I help you?'"
      ]
     },
     "execution_count": 9,
     "metadata": {},
     "output_type": "execute_result"
    }
   ],
   "source": [
    "response('hi')"
   ]
  },
  {
   "cell_type": "code",
   "execution_count": 10,
   "metadata": {},
   "outputs": [
    {
     "name": "stdout",
     "output_type": "stream",
     "text": [
      "[('need_help', 0.9998609)]\n",
      "('need_help', 0.9998609)\n",
      "in second if\n",
      "in first if tag: need_help\n",
      "new context   problem_told\n"
     ]
    },
    {
     "data": {
      "text/plain": [
       "'Okay tell me your problem'"
      ]
     },
     "execution_count": 10,
     "metadata": {},
     "output_type": "execute_result"
    }
   ],
   "source": [
    "response('help me feel better')"
   ]
  },
  {
   "cell_type": "code",
   "execution_count": 11,
   "metadata": {},
   "outputs": [
    {
     "name": "stdout",
     "output_type": "stream",
     "text": [
      "[('stating_problem', 0.99998903)]\n",
      "('stating_problem', 0.99998903)\n",
      "past context   problem_told\n",
      "in second if\n",
      "in first if tag: stating_problem\n",
      "new context   problem_got\n"
     ]
    },
    {
     "data": {
      "text/plain": [
       "'that sounds tough'"
      ]
     },
     "execution_count": 11,
     "metadata": {},
     "output_type": "execute_result"
    }
   ],
   "source": [
    "response('im having problem with')"
   ]
  },
  {
   "cell_type": "code",
   "execution_count": 12,
   "metadata": {},
   "outputs": [
    {
     "name": "stdout",
     "output_type": "stream",
     "text": [
      "in okay loop\n",
      "in okay loop\n",
      "in okay loop\n",
      "in okay loop\n",
      "in okay loop\n",
      "in okay loop\n",
      "new context   problem_got\n",
      "first   Can you tell me how does it makes you feel? 1.Angry, 2.Anxiety, 3.Depression\n"
     ]
    }
   ],
   "source": [
    "response('it is')"
   ]
  },
  {
   "cell_type": "code",
   "execution_count": 13,
   "metadata": {},
   "outputs": [
    {
     "name": "stdout",
     "output_type": "stream",
     "text": [
      "[('depression', 1.0)]\n",
      "('depression', 1.0)\n",
      "past context   problem_got\n",
      "in second if\n",
      "in first if tag: depression\n",
      "new context   depressed\n"
     ]
    },
    {
     "data": {
      "text/plain": [
       "'Oh gosh! That must be really tough'"
      ]
     },
     "execution_count": 13,
     "metadata": {},
     "output_type": "execute_result"
    }
   ],
   "source": [
    "response('depression')"
   ]
  },
  {
   "cell_type": "code",
   "execution_count": 14,
   "metadata": {},
   "outputs": [
    {
     "name": "stdout",
     "output_type": "stream",
     "text": [
      "in okay loop\n",
      "in okay loop\n",
      "in okay loop\n",
      "in okay loop\n",
      "in okay loop\n",
      "in okay loop\n",
      "in okay loop\n",
      "in okay loop\n",
      "new context   depressed_1\n",
      "first   You just wanted to share or do you want my help?\n"
     ]
    }
   ],
   "source": [
    "response('it is')"
   ]
  },
  {
   "cell_type": "code",
   "execution_count": 15,
   "metadata": {},
   "outputs": [],
   "source": [
    "response('work on it')"
   ]
  },
  {
   "cell_type": "code",
   "execution_count": 16,
   "metadata": {},
   "outputs": [
    {
     "name": "stdout",
     "output_type": "stream",
     "text": [
      "[('challenge_thought', 0.59379566), ('challenge_thought_anxiety', 0.4012561)]\n",
      "('challenge_thought', 0.59379566)\n",
      "past context   depressed_1\n",
      "('challenge_thought_anxiety', 0.4012561)\n",
      "past context   depressed_1\n"
     ]
    }
   ],
   "source": [
    "response('challenge my thought')"
   ]
  },
  {
   "cell_type": "code",
   "execution_count": 17,
   "metadata": {},
   "outputs": [
    {
     "name": "stdout",
     "output_type": "stream",
     "text": [
      "[('actual_rewrite_angry', 0.28005156), ('question1_depression', 0.2579449)]\n",
      "('actual_rewrite_angry', 0.28005156)\n",
      "past context   depressed_1\n",
      "('question1_depression', 0.2579449)\n",
      "past context   depressed_1\n"
     ]
    }
   ],
   "source": [
    "response('i have this problem')"
   ]
  },
  {
   "cell_type": "code",
   "execution_count": 18,
   "metadata": {},
   "outputs": [
    {
     "name": "stdout",
     "output_type": "stream",
     "text": [
      "in no loop\n"
     ]
    },
    {
     "ename": "KeyError",
     "evalue": "'depressed_1'",
     "output_type": "error",
     "traceback": [
      "\u001b[1;31m---------------------------------------------------------------------------\u001b[0m",
      "\u001b[1;31mKeyError\u001b[0m                                  Traceback (most recent call last)",
      "\u001b[1;32m<ipython-input-18-05ae22cf16b7>\u001b[0m in \u001b[0;36m<module>\u001b[1;34m\u001b[0m\n\u001b[1;32m----> 1\u001b[1;33m \u001b[0mresponse\u001b[0m\u001b[1;33m(\u001b[0m\u001b[1;34m'not at all'\u001b[0m\u001b[1;33m)\u001b[0m\u001b[1;33m\u001b[0m\u001b[1;33m\u001b[0m\u001b[0m\n\u001b[0m",
      "\u001b[1;32m<ipython-input-8-d2c5abc31e3a>\u001b[0m in \u001b[0;36mresponse\u001b[1;34m(sentence, userID, show_details)\u001b[0m\n\u001b[0;32m     41\u001b[0m                 \u001b[1;32melif\u001b[0m \u001b[0msentence\u001b[0m \u001b[1;32min\u001b[0m \u001b[1;33m[\u001b[0m\u001b[1;34m'no'\u001b[0m\u001b[1;33m,\u001b[0m\u001b[1;34m'nope'\u001b[0m\u001b[1;33m,\u001b[0m \u001b[1;34m'not at all'\u001b[0m\u001b[1;33m]\u001b[0m\u001b[1;33m:\u001b[0m\u001b[1;33m\u001b[0m\u001b[1;33m\u001b[0m\u001b[0m\n\u001b[0;32m     42\u001b[0m                     \u001b[0mprint\u001b[0m\u001b[1;33m(\u001b[0m\u001b[1;34m'in no loop'\u001b[0m\u001b[1;33m)\u001b[0m\u001b[1;33m\u001b[0m\u001b[1;33m\u001b[0m\u001b[0m\n\u001b[1;32m---> 43\u001b[1;33m                     \u001b[0mtag\u001b[0m \u001b[1;33m=\u001b[0m \u001b[0mno_dict\u001b[0m\u001b[1;33m[\u001b[0m\u001b[0mcontext\u001b[0m\u001b[1;33m[\u001b[0m\u001b[0muserID\u001b[0m\u001b[1;33m]\u001b[0m\u001b[1;33m]\u001b[0m\u001b[1;33m\u001b[0m\u001b[1;33m\u001b[0m\u001b[0m\n\u001b[0m\u001b[0;32m     44\u001b[0m                     \u001b[1;32mif\u001b[0m \u001b[0mi\u001b[0m\u001b[1;33m[\u001b[0m\u001b[1;34m'tag'\u001b[0m\u001b[1;33m]\u001b[0m \u001b[1;33m==\u001b[0m \u001b[0mtag\u001b[0m\u001b[1;33m:\u001b[0m\u001b[1;33m\u001b[0m\u001b[1;33m\u001b[0m\u001b[0m\n\u001b[0;32m     45\u001b[0m                         \u001b[0mresp\u001b[0m \u001b[1;33m=\u001b[0m \u001b[0mrandom\u001b[0m\u001b[1;33m.\u001b[0m\u001b[0mchoice\u001b[0m\u001b[1;33m(\u001b[0m\u001b[0mi\u001b[0m\u001b[1;33m[\u001b[0m\u001b[1;34m'responses'\u001b[0m\u001b[1;33m]\u001b[0m\u001b[1;33m)\u001b[0m\u001b[1;33m\u001b[0m\u001b[1;33m\u001b[0m\u001b[0m\n",
      "\u001b[1;31mKeyError\u001b[0m: 'depressed_1'"
     ]
    }
   ],
   "source": [
    "response('not at all')"
   ]
  },
  {
   "cell_type": "code",
   "execution_count": null,
   "metadata": {},
   "outputs": [],
   "source": [
    "response('catastrophe')"
   ]
  },
  {
   "cell_type": "code",
   "execution_count": null,
   "metadata": {},
   "outputs": [],
   "source": [
    "response('it is')"
   ]
  },
  {
   "cell_type": "code",
   "execution_count": null,
   "metadata": {},
   "outputs": [],
   "source": [
    "response('yes')"
   ]
  },
  {
   "cell_type": "code",
   "execution_count": null,
   "metadata": {},
   "outputs": [],
   "source": [
    "response('got it')"
   ]
  },
  {
   "cell_type": "code",
   "execution_count": null,
   "metadata": {},
   "outputs": [],
   "source": [
    "response('no')"
   ]
  },
  {
   "cell_type": "code",
   "execution_count": null,
   "metadata": {},
   "outputs": [],
   "source": [
    "response('no')"
   ]
  },
  {
   "cell_type": "code",
   "execution_count": 26,
   "metadata": {},
   "outputs": [
    {
     "name": "stdout",
     "output_type": "stream",
     "text": [
      "[('greeting', 0.9993413)]\n",
      "('greeting', 0.9993413)\n",
      "in second if\n",
      "in first if tag: greeting\n"
     ]
    },
    {
     "data": {
      "text/plain": [
       "\"What's up what can I do for you?\""
      ]
     },
     "execution_count": 26,
     "metadata": {},
     "output_type": "execute_result"
    }
   ],
   "source": [
    "response('hi')"
   ]
  },
  {
   "cell_type": "code",
   "execution_count": 27,
   "metadata": {},
   "outputs": [
    {
     "name": "stdout",
     "output_type": "stream",
     "text": [
      "[('anxiety', 0.99994457)]\n",
      "('anxiety', 0.99994457)\n",
      "in second if\n",
      "in first if tag: anxiety\n",
      "new context   anxiety\n"
     ]
    },
    {
     "data": {
      "text/plain": [
       "'want my help or just wanted to share'"
      ]
     },
     "execution_count": 27,
     "metadata": {},
     "output_type": "execute_result"
    }
   ],
   "source": [
    "response('anxiety')"
   ]
  },
  {
   "cell_type": "code",
   "execution_count": 28,
   "metadata": {},
   "outputs": [],
   "source": [
    "response('work on it')"
   ]
  },
  {
   "cell_type": "code",
   "execution_count": 29,
   "metadata": {},
   "outputs": [
    {
     "name": "stdout",
     "output_type": "stream",
     "text": [
      "[('challenge_thought', 0.59379566), ('challenge_thought_anxiety', 0.4012561)]\n",
      "('challenge_thought', 0.59379566)\n",
      "past context   anxiety\n",
      "('challenge_thought_anxiety', 0.4012561)\n",
      "past context   anxiety\n"
     ]
    }
   ],
   "source": [
    "response('challenge my thought')"
   ]
  },
  {
   "cell_type": "code",
   "execution_count": 30,
   "metadata": {},
   "outputs": [
    {
     "name": "stdout",
     "output_type": "stream",
     "text": [
      "[('actual_rewrite_angry', 0.28005156), ('question1_depression', 0.2579449)]\n",
      "('actual_rewrite_angry', 0.28005156)\n",
      "past context   anxiety\n",
      "('question1_depression', 0.2579449)\n",
      "past context   anxiety\n"
     ]
    }
   ],
   "source": [
    "response('i have this problem')"
   ]
  },
  {
   "cell_type": "code",
   "execution_count": 31,
   "metadata": {},
   "outputs": [
    {
     "name": "stdout",
     "output_type": "stream",
     "text": [
      "[('question_to_question3_depression', 0.27333075)]\n",
      "('question_to_question3_depression', 0.27333075)\n",
      "past context   anxiety\n"
     ]
    }
   ],
   "source": [
    "response('what is that?')"
   ]
  },
  {
   "cell_type": "code",
   "execution_count": 32,
   "metadata": {},
   "outputs": [
    {
     "name": "stdout",
     "output_type": "stream",
     "text": [
      "in okay loop\n"
     ]
    },
    {
     "ename": "KeyError",
     "evalue": "'anxiety'",
     "output_type": "error",
     "traceback": [
      "\u001b[1;31m---------------------------------------------------------------------------\u001b[0m",
      "\u001b[1;31mKeyError\u001b[0m                                  Traceback (most recent call last)",
      "\u001b[1;32m<ipython-input-32-4310cad0d5bd>\u001b[0m in \u001b[0;36m<module>\u001b[1;34m\u001b[0m\n\u001b[1;32m----> 1\u001b[1;33m \u001b[0mresponse\u001b[0m\u001b[1;33m(\u001b[0m\u001b[1;34m'got it'\u001b[0m\u001b[1;33m)\u001b[0m\u001b[1;33m\u001b[0m\u001b[1;33m\u001b[0m\u001b[0m\n\u001b[0m",
      "\u001b[1;32m<ipython-input-25-bc00433b892e>\u001b[0m in \u001b[0;36mresponse\u001b[1;34m(sentence, userID, show_details)\u001b[0m\n\u001b[0;32m     59\u001b[0m                 \u001b[1;32melif\u001b[0m \u001b[0msentence\u001b[0m \u001b[1;32min\u001b[0m \u001b[1;33m[\u001b[0m\u001b[1;34m'okay'\u001b[0m\u001b[1;33m,\u001b[0m\u001b[1;34m'cool'\u001b[0m\u001b[1;33m,\u001b[0m \u001b[1;34m'gotcha'\u001b[0m\u001b[1;33m,\u001b[0m \u001b[1;34m'it is'\u001b[0m\u001b[1;33m,\u001b[0m \u001b[1;34m'got it'\u001b[0m\u001b[1;33m,\u001b[0m \u001b[1;34m'alright'\u001b[0m\u001b[1;33m,\u001b[0m \u001b[1;34m'it does'\u001b[0m\u001b[1;33m]\u001b[0m\u001b[1;33m:\u001b[0m\u001b[1;33m\u001b[0m\u001b[1;33m\u001b[0m\u001b[0m\n\u001b[0;32m     60\u001b[0m                     \u001b[0mprint\u001b[0m\u001b[1;33m(\u001b[0m\u001b[1;34m'in okay loop'\u001b[0m\u001b[1;33m)\u001b[0m\u001b[1;33m\u001b[0m\u001b[1;33m\u001b[0m\u001b[0m\n\u001b[1;32m---> 61\u001b[1;33m                     \u001b[0mtag\u001b[0m \u001b[1;33m=\u001b[0m \u001b[0mokay_dict\u001b[0m\u001b[1;33m[\u001b[0m\u001b[0mcontext\u001b[0m\u001b[1;33m[\u001b[0m\u001b[0muserID\u001b[0m\u001b[1;33m]\u001b[0m\u001b[1;33m]\u001b[0m\u001b[1;33m\u001b[0m\u001b[1;33m\u001b[0m\u001b[0m\n\u001b[0m\u001b[0;32m     62\u001b[0m                     \u001b[1;32mif\u001b[0m \u001b[0mi\u001b[0m\u001b[1;33m[\u001b[0m\u001b[1;34m'tag'\u001b[0m\u001b[1;33m]\u001b[0m \u001b[1;33m==\u001b[0m \u001b[0mtag\u001b[0m\u001b[1;33m:\u001b[0m\u001b[1;33m\u001b[0m\u001b[1;33m\u001b[0m\u001b[0m\n\u001b[0;32m     63\u001b[0m                         \u001b[0mresp\u001b[0m \u001b[1;33m=\u001b[0m \u001b[0mrandom\u001b[0m\u001b[1;33m.\u001b[0m\u001b[0mchoice\u001b[0m\u001b[1;33m(\u001b[0m\u001b[0mi\u001b[0m\u001b[1;33m[\u001b[0m\u001b[1;34m'responses'\u001b[0m\u001b[1;33m]\u001b[0m\u001b[1;33m)\u001b[0m\u001b[1;33m\u001b[0m\u001b[1;33m\u001b[0m\u001b[0m\n",
      "\u001b[1;31mKeyError\u001b[0m: 'anxiety'"
     ]
    }
   ],
   "source": [
    "response('got it')"
   ]
  },
  {
   "cell_type": "code",
   "execution_count": null,
   "metadata": {},
   "outputs": [],
   "source": [
    "response('yes')"
   ]
  },
  {
   "cell_type": "code",
   "execution_count": null,
   "metadata": {},
   "outputs": [],
   "source": [
    "response('okay')"
   ]
  },
  {
   "cell_type": "code",
   "execution_count": null,
   "metadata": {},
   "outputs": [],
   "source": [
    "response('no')"
   ]
  },
  {
   "cell_type": "code",
   "execution_count": null,
   "metadata": {},
   "outputs": [],
   "source": [
    "response('no')"
   ]
  },
  {
   "cell_type": "code",
   "execution_count": null,
   "metadata": {},
   "outputs": [],
   "source": []
  }
 ],
 "metadata": {
  "kernelspec": {
   "display_name": "Python 3",
   "language": "python",
   "name": "python3"
  },
  "language_info": {
   "codemirror_mode": {
    "name": "ipython",
    "version": 3
   },
   "file_extension": ".py",
   "mimetype": "text/x-python",
   "name": "python",
   "nbconvert_exporter": "python",
   "pygments_lexer": "ipython3",
   "version": "3.6.12"
  }
 },
 "nbformat": 4,
 "nbformat_minor": 4
}
