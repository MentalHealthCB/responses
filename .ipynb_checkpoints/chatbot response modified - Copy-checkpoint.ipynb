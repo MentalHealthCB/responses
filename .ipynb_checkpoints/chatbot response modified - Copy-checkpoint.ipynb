{
 "cells": [
  {
   "cell_type": "code",
   "execution_count": 1,
   "metadata": {},
   "outputs": [
    {
     "name": "stdout",
     "output_type": "stream",
     "text": [
      "WARNING:tensorflow:From C:\\ProgramData\\Anaconda3\\lib\\site-packages\\tensorflow\\python\\compat\\v2_compat.py:96: disable_resource_variables (from tensorflow.python.ops.variable_scope) is deprecated and will be removed in a future version.\n",
      "Instructions for updating:\n",
      "non-resource variables are not supported in the long term\n",
      "curses is not supported on this machine (please install/reinstall curses for an optimal experience)\n"
     ]
    }
   ],
   "source": [
    "import nltk\n",
    "from nltk.stem.lancaster import LancasterStemmer\n",
    "stemmer = LancasterStemmer()\n",
    "\n",
    "# things we need for Tensorflow\n",
    "import numpy as np\n",
    "import tflearn\n",
    "import tensorflow as tf\n",
    "import random"
   ]
  },
  {
   "cell_type": "code",
   "execution_count": 2,
   "metadata": {},
   "outputs": [],
   "source": [
    "# restore all of our data structures\n",
    "import pickle\n",
    "data = pickle.load( open( \"training_data\", \"rb\" ) )\n",
    "words = data['words']\n",
    "classes = data['classes']\n",
    "train_x = data['train_x']\n",
    "train_y = data['train_y']\n",
    "\n",
    "# import our chat-bot intents file\n",
    "import json\n",
    "with open('intents.json') as json_data:\n",
    "    intents = json.load(json_data)"
   ]
  },
  {
   "cell_type": "code",
   "execution_count": 3,
   "metadata": {},
   "outputs": [
    {
     "name": "stdout",
     "output_type": "stream",
     "text": [
      "WARNING:tensorflow:From C:\\ProgramData\\Anaconda3\\lib\\site-packages\\tflearn\\initializations.py:164: calling TruncatedNormal.__init__ (from tensorflow.python.ops.init_ops) with dtype is deprecated and will be removed in a future version.\n",
      "Instructions for updating:\n",
      "Call initializer instance with the dtype argument instead of passing it to the constructor\n"
     ]
    }
   ],
   "source": [
    "# Build neural network\n",
    "net = tflearn.input_data(shape=[None, len(train_x[0])])\n",
    "net = tflearn.fully_connected(net, 8)\n",
    "net = tflearn.fully_connected(net, 8)\n",
    "net = tflearn.fully_connected(net, len(train_y[0]), activation='softmax')\n",
    "net = tflearn.regression(net)\n",
    "\n",
    "# Define model and setup tensorboard\n",
    "model = tflearn.DNN(net, tensorboard_dir='tflearn_logs')"
   ]
  },
  {
   "cell_type": "code",
   "execution_count": 4,
   "metadata": {},
   "outputs": [],
   "source": [
    "def clean_up_sentence(sentence):\n",
    "    # tokenize the pattern\n",
    "    sentence_words = nltk.word_tokenize(sentence)\n",
    "    # stem each word\n",
    "    sentence_words = [stemmer.stem(word.lower()) for word in sentence_words]\n",
    "    return sentence_words\n",
    "\n",
    "# return bag of words array: 0 or 1 for each word in the bag that exists in the sentence\n",
    "def bow(sentence, words, show_details=False):\n",
    "    # tokenize the pattern\n",
    "    sentence_words = clean_up_sentence(sentence)\n",
    "    # bag of words\n",
    "    bag = [0]*len(words)  \n",
    "    for s in sentence_words:\n",
    "        for i,w in enumerate(words):\n",
    "            if w == s: \n",
    "                bag[i] = 1\n",
    "                if show_details:\n",
    "                    print (\"found in bag: %s\" % w)\n",
    "\n",
    "    return(np.array(bag))"
   ]
  },
  {
   "cell_type": "code",
   "execution_count": 5,
   "metadata": {},
   "outputs": [
    {
     "name": "stdout",
     "output_type": "stream",
     "text": [
      "[0 0 0 0 0 0 0 0 0 0 0 0 0 0 0 0 0 0 0 0 0 0 0 0 0 0 0 0 0 0 0 0 0 0 0 0 0\n",
      " 0 0 0 0 0 0 0 0 0 0 0 0 0 0 0 0 0 0 0 1 0 0 0 0 0 0 0 0 0 0 0 0 0 0 0 0 0\n",
      " 0 0 0 0 0 0 0 0 0 0 0 0 0 0 0 0 0 0 0 0 0 0 0 0 0 0 0 0 0 0 0 0 0 0 0 1 0]\n",
      "['addiction', 'affirmation_distraction_addiction', 'anxiety', 'challenge_thought_anxiety', 'depression', 'explain_distraction_addiction', 'explainreccdist_depression', 'first_substance_addiction', 'go_plan_for_things', 'goodbye', 'greeting', 'how_wreck', 'ideas_wrecking', 'need_help', 'need_help_adiction', 'need_ideas_addiction', 'no_distraction_addiction', 'no_distraction_addiction_after', 'plan_for_thing', 'ques_to_q1_anxiety', 'question1_anxiety', 'question1_depression', 'question_to_question1_depression', 'question_to_question2_anxiety', 'question_to_question2_depression', 'question_to_question3_depression', 'questtion_to_question4_depression', 'stating_problem', 'thanks', 'the_end', 'the_end_bad', 'things_addiction', 'what_to_do_addiction2', 'work_on_it', 'work_on_it_anxiety', 'wrote_everything_addiction']\n"
     ]
    }
   ],
   "source": [
    "p = bow(\"is your shop open today?\", words)\n",
    "print (p)\n",
    "print (classes)"
   ]
  },
  {
   "cell_type": "code",
   "execution_count": 6,
   "metadata": {},
   "outputs": [
    {
     "name": "stdout",
     "output_type": "stream",
     "text": [
      "INFO:tensorflow:Restoring parameters from D:\\COLLEGE\\BE Project\\github_CB\\responses\\model.tflearn\n"
     ]
    }
   ],
   "source": [
    "# load our saved model\n",
    "model.load('./model.tflearn')"
   ]
  },
  {
   "cell_type": "code",
   "execution_count": 7,
   "metadata": {},
   "outputs": [],
   "source": [
    "yeah_dict = {'problem_got': ('categorize_problem', 'How would you categorize this issue 1.Depression, 2.Anxiety, 3.Addiction, 4.Angry, 5.Grief'), 'depressed':('depressed_1', 'So do you want my help with it or you just wanted to share?'), 'write_thought': ('questoques1recognized','Good job recognizing. Labels can weigh us down and squash our growth mindset') , 'catastrophe': ('makingUnderstandques2', 'Its like looking at your problems through a binoculars. But if you lower the binoculars you might see your problems from a more realistic point of view'), 'write_thought_anxiety': ('questoques1confirmed_anxiety','Thats common....but does not mean its good way to deal with pressure'), 'future_assuming':('future_assuming_explanation', 'You assume, if you attempt something it will turn out poorly'), 'distortion': ('gotchaques3', 'yeah with this distortion it can feel like destiny is weighing us down. This is called Overgeneralisation.'), 'emotionalreasoning': ('rewritethoughts','Nice spot!'), 'future_assuming': ('affirmation_anxiety','You need to understand you can not foresee the future'), 'distraction_addiction':('done_solution', 'sure, distraction it is (take to any site with fun activities or give them riddles)')}\n",
    "no_dict = {'problem_told_depression': ('catastrophe','Does Your Thought make a catastrophe out of a situation?'), 'catastrophe': ('distortion', 'Does it assume a continuing patterns of negativity or a never ending cycle of defeat?'),'distortion': ('emotionalreasoning', 'Does your thought suggest any emotional reasoning?'), 'write_thought_anxiety':('future_assuming', 'Is your thought future assuming?'), 'future_assuming': ('mind_reading', 'Is your thought mind reading?'), 'emotionalreasoning': ('rewritethoughts', 'Ok now the most crucial peice... please rewrite your negative thoughts so that its more realistic. what would be a kinder more balanced way to talk to yourself here?'), 'ideas_wrecking':('which_category', 'Sure ive got tips for handling relationships, places, things which would be helpful? We can do more than one')}\n",
    "okay_dict = {'depressed':('depressed_1', 'So do you want my help with it or you just wanted to share?'),'problem_got': ('categorize_problem','How would you categorize this issue 1.Angry, 2.Anxiety, 3.Depression'),'questoques1explained':('write_thought', 'So let me ask you again, does the thought attach any labels to you?'), 'questoques1recognized':('catastrophe', 'Does Your Thought make a catastrophe out of a situation?'), 'ques2explained': ('catastrophe', 'So let me ask you again, Does Your Thought make a catastrophe out of a situation?'),'makingUnderstandques2': ('distortion', 'Does it assume a continuing patterns of negativity or a never ending cycle of defeat?'),'ques3explained':('givingAName', 'This is often a recurring distortion for perfectionists'), 'everythingExplained':('distortion', 'Let me ask another way: are you assuming that the way something has turned out now, is also the way things will turn out in the future'), 'gotchaques3':('emotionalreasoning', 'Does your thought suggest any emotional reasoning?'), 'ques4explained':('emotionalreasoning', 'sO WHAT DO YOU THINK IS THERE ANY emotional reasoning'), 'questoques1explained_anxiety':('write_thought_anxiety', 'So let me ask you again, does the thought serve a purpose?'), 'questoques1confirmed_anxiety':('future_assuming', 'Is your thought future assuming?'), 'future_assuming_explanation':('future_assuming', 'So let me ask you again, is your thought future assuming?'), 'affirmation_anxiety':('mind_reading', 'Is your thought mind reading?'), 'addiction':('what_to_do_adiction', 'OK, did you want my help with this right now, or did you just want me to know about it?'), 'help_addiction':('distraction_addiction', 'well first up we could try a distraction'), 'explain_distraction':('distraction_addiction', 'it wont solve the problem but it can help dial down the intensity of a craving'), 'distraction_addiction':('done_solution', 'sure, distraction it is (take to any site with fun activities or give them riddles)'), 'no_distraction':('no_distraction2', 'first we ll do a guided imagery exercise together, imaging your substance as an island. Then we ll identify everything that allows you to keep going back. Those are the ships we ll be wrecking.'), 'no_distraction2':('no_distraction3','then Ill ask you to do the hard ad important work of committing to wrecking those ships'), 'wrecking_explained':('first_substance', 'okay buckle in! First whats the substance you want to change your relationship with?'), 'got_first_substance': ('look_island', 'think about what the island looks like'), 'look_island': ('who_island', 'imagine whos on the island with you. maybe you are alone.'), 'who_island': ('ways_island', 'Now think of all the ways you get to your island. Like where you use it, the people you use with, all the equipments or materials you associate with it, and everything that triggers cravings'), 'ways_island':('write_ships','write it all here'), 'wrote_ships':('destroy_ships', 'I want you to envision your ships colliding. Hear the crash and the creak of wood. and watch them spin down in a whirlpool until they are sucked to the bottom of the sea out of your grasp'), 'destroy_ships':('next_job','Great job with the imagery we ve come a long way and we still have some work ahead of us'), 'next_job':('ideas_wrecking', 'So do you have any ideas about a strategy for wrecking your ships'), 'solve_things':('sharing_plan_for_things', 'ok share your plan with me here'), 'last_challenge_things':('the_end_things', 'i know this was a long exercise so thanks for sticking it out nd making a plan with me. How are you feeling after meeting this strategy?'), 'no_distraction3':('first_substance', \n",
    "'okay buckle in! First whats the substance you n=want to change your relationship with?'), '':('','')}"
   ]
  },
  {
   "cell_type": "code",
   "execution_count": 8,
   "metadata": {},
   "outputs": [],
   "source": [
    "# create a data structure to hold user context\n",
    "context = {}\n",
    "\n",
    "ERROR_THRESHOLD = 0.25\n",
    "def classify(sentence):\n",
    "    # generate probabilities from the model\n",
    "    results = model.predict([bow(sentence, words)])[0]\n",
    "    \n",
    "    # filter out predictions below a threshold\n",
    "    results = [[i,r] for i,r in enumerate(results) if r>ERROR_THRESHOLD]\n",
    "    # sort by strength of probability\n",
    "    results.sort(key=lambda x: x[1], reverse=True)\n",
    "    return_list = []\n",
    "    for r in results:\n",
    "        return_list.append((classes[r[0]], r[1]))\n",
    "    # return tuple of intent and probability\n",
    "    return return_list\n",
    "\n",
    "def response(sentence,userID='123', show_details=True):\n",
    "#     while True:\n",
    "        resp = ''\n",
    "#         sentence = input()\n",
    "#         if sentence == 'bye':\n",
    "#             break\n",
    "        results = classify(sentence)\n",
    "        r1 = results[0]\n",
    "        try:\n",
    "            past_context = context[userID]\n",
    "        except:\n",
    "            pass\n",
    "        try:            # find a tag matching the first result\n",
    "            if sentence in ['yes','yeah']:\n",
    "                #print('in yeah loop')\n",
    "                tple = yeah_dict[context[userID]]\n",
    "                #print(tple)\n",
    "                resp = tple[1]\n",
    "                context[userID] = tple[0]\n",
    "                    #if i['tag'] == tag:\n",
    "                        #resp = random.choice(i['responses'])\n",
    "                        #if 'context_set' in i:\n",
    "                            #context[userID] = i['context_set']\n",
    "                        #print('new context  ', context[userID])\n",
    "                    #if 'context_filter' in i:\n",
    "                        #print('context set in first if : ',context[userID])\n",
    "                        #if context[userID]==i['context_filter']:\n",
    "                            #print('response in second if :', i['responses'])\n",
    "                            #resp = random.choice(i['responses'])\n",
    "                        #if 'context_set' in i:\n",
    "                            #if show_details: print ('context in third if :', i['context_set'])\n",
    "                            #context[userID] = i['context_set']\n",
    "\n",
    "                return ('first yeah  '+str(resp))\n",
    "#                 continue\n",
    "        except:\n",
    "            #print('context_set ',context[userID],' past_context ',past_context)\n",
    "            return ('sorry I didnt get you. Will you please be a little clear')\n",
    "#             continue\n",
    "        try:\n",
    "            if sentence in ['no','nope', 'not at all']:\n",
    "                #print('in no loop')\n",
    "                tple = no_dict[context[userID]]\n",
    "                #print(tple)\n",
    "                resp = tple[1]\n",
    "                context[userID] = tple[0]\n",
    "        #if i['tag'] == tag:\n",
    "            #resp = random.choice(i['responses'])\n",
    "            #if 'context_set' in i:\n",
    "                #context[userID] = i['context_set']\n",
    "            #print('new context  ', context[userID])\n",
    "                    #if 'context_filter' in i:\n",
    "                        #print('context set in first if : ',context[userID])\n",
    "                        #if context[userID]==i['context_filter']:\n",
    "                            #print('response in second if :', i['responses'])\n",
    "                            #resp = random.choice(i['responses'])\n",
    "                        #if 'context_set' in i:\n",
    "                            #if show_details: print ('context in third if :', i['context_set'])\n",
    "                            #context[userID] = i['context_set']\n",
    "\n",
    "                return ('first  '+str(resp))\n",
    "#                 continue\n",
    "        except:\n",
    "            #print('context_set ',context[userID],' past_context ',past_context)\n",
    "            return ('sorry I didnt get you. Will you please be a little clear')\n",
    "#             continue\n",
    "\n",
    "        try:\n",
    "            if sentence in ['okay','cool','true','sure', 'gotcha', 'it is', 'got it', 'alright', 'it does']:\n",
    "                #print('in okay loop')\n",
    "                \n",
    "#                 print('context_filter ', context[userID])\n",
    "                tple = okay_dict[context[userID]]\n",
    "                if tple[0] == 'wrecking_explained' or tple[0] == 'no_distraction3':\n",
    "                    \n",
    "#                     substance = input('okay buckle in! First whats the substance you want to change your relationship with?')\n",
    "                    return ('okay buckle in! First whats the substance you want to change your relationship with?')\n",
    "                    substance = sentence\n",
    "#                     print('I want you to think of using it as an island')\n",
    "                    context[userID] = 'got_first_substance'\n",
    "                    return ('I want you to think of using it as an island')\n",
    "#                     continue\n",
    "                elif tple[0] == 'ways_island':\n",
    "                    ships = input('write it all here ')\n",
    "#                     print('these are the ships you are wrecking')\n",
    "                    context[userID] = 'wrote_ships'\n",
    "                    return ('these are the ships you are wrecking')\n",
    "#                     continue\n",
    "                else:                    \n",
    "                #print(tple)\n",
    "                    resp = tple[1]\n",
    "                    context[userID] = tple[0]\n",
    "#                     print('new context ', context[userID])\n",
    "        #if i['tag'] == tag:\n",
    "            #resp = random.choice(i['responses'])\n",
    "            #if 'context_set' in i:\n",
    "                #context[userID] = i['context_set']\n",
    "            #print('new context  ', context[userID])\n",
    "                    #if 'context_filter' in i:\n",
    "                        #print('context set in first if : ',context[userID])\n",
    "                        #if context[userID]==i['context_filter']:\n",
    "                            #print('response in second if :', i['responses'])\n",
    "                            #resp = random.choice(i['responses'])\n",
    "                        #if 'context_set' in i:\n",
    "                            #if show_details: print ('context in third if :', i['context_set'])\n",
    "                            #context[userID] = i['context_set']\n",
    "\n",
    "                return ('first  '+str(resp))\n",
    "#                 continue\n",
    "        except:\n",
    "            #print('context_set ',context[userID],' past_context ',past_context)\n",
    "            return ('sorry I didnt get you. Will you please be a little clear')\n",
    "#             continue\n",
    "    \n",
    "    \n",
    "    \n",
    "    #Problem input\n",
    "        if r1[0] == 'need_help':\n",
    "            context[userID] = 'problem_got'\n",
    "#             problem = input(\"okay tell me your problem \")\n",
    "            return (\"okay tell me your problem \")\n",
    "            problem = sentence\n",
    "            return (\"Ouch that sucks\")\n",
    "#             continue\n",
    "        \n",
    "    \n",
    "    \n",
    "        \n",
    "    # if we have a classification then find the matching intent tag\n",
    "        if results:\n",
    "#             print(results)\n",
    "        # loop as long as there are matches to process\n",
    "            try:\n",
    "                for i in results:\n",
    "#                     print(i)\n",
    "                \n",
    "                    for j in intents['intents']:\n",
    "                        if i[0]==j['tag']:\n",
    "                            if not 'context_filter' in j or \\\n",
    "                                (userID in context and 'context_filter' in j and j['context_filter'] == context[userID]):\n",
    "#                                 print('in second if')\n",
    "#                                 if show_details: print ('in first if tag:', j['tag'])\n",
    "                                resp = random.choice(j['responses'])\n",
    "                                if 'context_set' in j: \n",
    "                                    context[userID] = j['context_set']\n",
    "#                                     print('new context  ', context[userID])\n",
    "                if resp == '':\n",
    "                    return ('sorry I didnt get you. Will you please be a little clear')\n",
    "                    \n",
    "#                     continue\n",
    "                else: \n",
    "                    return str(resp)\n",
    "#                     continue\n",
    "                                \n",
    "            except:\n",
    "                    #try:\n",
    "                        #print('context_set ',context[userID],' past_context ',past_context)\n",
    "                    #except:\n",
    "                        #pass\n",
    "#                     print('sorry I didnt get you. Will you please be a little clear')\n",
    "                    return ('sorry I didnt get you. Will you please be a little clear')\n",
    "#                     continue\n",
    "\n",
    "        "
   ]
  },
  {
   "cell_type": "code",
   "execution_count": 9,
   "metadata": {},
   "outputs": [
    {
     "data": {
      "text/plain": [
       "'Hello, How can I help you?'"
      ]
     },
     "execution_count": 9,
     "metadata": {},
     "output_type": "execute_result"
    }
   ],
   "source": [
    "response('hi')"
   ]
  },
  {
   "cell_type": "code",
   "execution_count": 10,
   "metadata": {},
   "outputs": [],
   "source": [
    "%mkdir templates -p"
   ]
  },
  {
   "cell_type": "markdown",
   "metadata": {},
   "source": [
    "else:\n",
    "                    print('in else loop')\n",
    "                    if 'context_filter' in j and j['context_filter'] == context[userID]:\n",
    "                        resp = random.choice(j['responses'])\n",
    "                        print('tag: ', j['tag'])\n",
    "                        if 'context_set' in j: \n",
    "                            context[userID] = j['context_set']\n",
    "                            print('new context  ', context[userID])\n",
    "                        return(resp)"
   ]
  },
  {
   "cell_type": "code",
   "execution_count": 11,
   "metadata": {},
   "outputs": [
    {
     "name": "stdout",
     "output_type": "stream",
     "text": [
      "Writing templates/index.html\n"
     ]
    }
   ],
   "source": [
    "%%writefile templates/index.html\n",
    "<!DOCTYPE html>\n",
    "<html>\n",
    "  <title>Restaurant Chatbot</title>\n",
    "  <head>\n",
    "    <link href='https://fonts.googleapis.com/css?family=Alegreya' rel='stylesheet'>\n",
    "    <link rel=\"icon\" href=\"\">\n",
    "    <script src=\"https://ajax.googleapis.com/ajax/libs/jquery/3.2.1/jquery.min.js\"></script>\n",
    "    <style>\n",
    "      body {\n",
    "        font-family: monospace;\n",
    "        background-position: center;\n",
    "        background-repeat: no-repeat;\n",
    "        background-size: cover;\n",
    "        background-attachment: fixed;\n",
    "      }\n",
    "      h1 {\n",
    "        border: 1px solid white;\n",
    "        border-radius: 5px;\n",
    "        color: #ce9e62;\n",
    "        display: inline-block;Alegreya\n",
    "        font-size: 3em;\n",
    "        margin: 5;\n",
    "        padding: 10px;\n",
    "      }\n",
    "      #chatbox {\n",
    "        margin-top: auto;\n",
    "        margin-bottom: auto;\n",
    "        margin-left: auto;\n",
    "        margin-right: auto;\n",
    "        width: 40%;\n",
    "        margin-top: 60px;\n",
    "      }\n",
    "      #userInput {\n",
    "        margin-left: auto;\n",
    "        margin-right: auto;\n",
    "        width: 40%;\n",
    "        margin-top: 60px;\n",
    "      }\n",
    "      #textInput {\n",
    "        width: 90%;\n",
    "        border: none;\n",
    "        border-bottom: 3px solid black;\n",
    "        font-family: 'Alegreya';\n",
    "        font-size: 17px;\n",
    "      }\n",
    "      .userText {\n",
    "        color: white;\n",
    "        background-color: #4b6777; \n",
    "        font-family: 'Alegreya';\n",
    "        font-size: 17px;\n",
    "        text-align: center;\n",
    "        line-height: 30px;\n",
    "        border-radius: 5px;\n",
    "      }\n",
    "      .userText span {\n",
    "        padding:10px;\n",
    "        border-radius: 5px;\n",
    "      }\n",
    "      .botText {\n",
    "        color: #ce9e62;\n",
    "        background-color: #2c2c2c;\n",
    "        font-family: 'Alegreya';\n",
    "        font-size: 17px;\n",
    "        text-align: center;\n",
    "        line-height: 30px;\n",
    "        border-radius: 5px;\n",
    "      }\n",
    "      .botText span {\n",
    "        padding: 10px;\n",
    "        border-radius: 5px;\n",
    "      }\n",
    "      .boxed {\n",
    "        margin-left: auto;\n",
    "        margin-right: auto;\n",
    "        width: 100%;\n",
    "        margin-top: 60px;\n",
    "        border-radius: 5px;\n",
    "      }\n",
    "      input[type=text] {\n",
    "        bottom: 0;\n",
    "        width: 40%;\n",
    "        padding: 12px 20px;\n",
    "        margin: 8px 0;\n",
    "        box-sizing: border-box;\n",
    "        position: fixed;\n",
    "        border-radius: 5px;\n",
    "      }\n",
    "    </style>\n",
    "  </head>\n",
    "  <body background=\"{{ url_for('static', filename='images/slider.jpg') }}\">\n",
    "    <img />\n",
    "    <center>\n",
    "      <h1>\n",
    "      Restaurant Chatbot\n",
    "      </h1>\n",
    "    </center>\n",
    "    <div class=\"boxed\">\n",
    "      <div>\n",
    "        <div id=\"chatbox\">\n",
    "        </div>\n",
    "      </div>\n",
    "        <div id=\"userInput\">\n",
    "          <input id=\"nameInput\" type=\"text\" name=\"msg\" placeholder=\"Ask me anything...\" />\n",
    "        </div>\n",
    "<script>\n",
    "        function getBotResponse() {\n",
    "          var rawText = $(\"#nameInput\").val();\n",
    "          var userHtml = '<p class=\"userText\"><span>' + rawText + \"</span></p>\";\n",
    "          $(\"#nameInput\").val(\"\");\n",
    "          $(\"#chatbox\").append(userHtml);\n",
    "          document\n",
    "            .getElementById(\"userInput\")\n",
    "            .scrollIntoView({ block: \"start\", behavior: \"smooth\" });\n",
    "          $.get(\"/get\", { msg: rawText }).done(function(data) {\n",
    "            var botHtml = '<p class=\"botText\"><span>' + data + \"</span></p>\";\n",
    "            $(\"#chatbox\").append(botHtml);\n",
    "            document\n",
    "              .getElementById(\"userInput\")\n",
    "              .scrollIntoView({ block: \"start\", behavior: \"smooth\" });\n",
    "          });\n",
    "        }\n",
    "        $(\"#nameInput\").keypress(function(e) {\n",
    "          if (e.which == 13) {\n",
    "            getBotResponse();\n",
    "          }\n",
    "        });\n",
    "</script>\n",
    "</div>\n",
    "</body>\n",
    "</html>"
   ]
  },
  {
   "cell_type": "code",
   "execution_count": null,
   "metadata": {},
   "outputs": [
    {
     "name": "stdout",
     "output_type": "stream",
     "text": [
      " * Serving Flask app \"__main__\" (lazy loading)\n",
      " * Environment: production\n",
      "   WARNING: This is a development server. Do not use it in a production deployment.\n",
      "   Use a production WSGI server instead.\n",
      " * Debug mode: off\n"
     ]
    },
    {
     "name": "stderr",
     "output_type": "stream",
     "text": [
      " * Running on http://127.0.0.1:5000/ (Press CTRL+C to quit)\n"
     ]
    },
    {
     "name": "stdout",
     "output_type": "stream",
     "text": [
      " * Running on http://c8dd2ed09d90.ngrok.io\n",
      " * Traffic stats available on http://127.0.0.1:4040\n"
     ]
    },
    {
     "name": "stderr",
     "output_type": "stream",
     "text": [
      "127.0.0.1 - - [14/Feb/2021 19:09:12] \"\u001b[37mGET / HTTP/1.1\u001b[0m\" 200 -\n",
      "127.0.0.1 - - [14/Feb/2021 19:09:13] \"\u001b[33mGET /static/images/slider.jpg HTTP/1.1\u001b[0m\" 404 -\n",
      "127.0.0.1 - - [14/Feb/2021 19:09:13] \"\u001b[33mGET /favicon.ico HTTP/1.1\u001b[0m\" 404 -\n",
      "127.0.0.1 - - [14/Feb/2021 19:09:15] \"\u001b[37mGET /get?msg=hi HTTP/1.1\u001b[0m\" 200 -\n"
     ]
    }
   ],
   "source": [
    "from flask_ngrok import run_with_ngrok\n",
    "from flask import Flask, request, render_template\n",
    "app = Flask(__name__)\n",
    "run_with_ngrok(app)   \n",
    "  \n",
    "@app.route('/')\n",
    "def index():\n",
    "  return render_template('index.html')\n",
    "\n",
    "\n",
    "@app.route('/get')\n",
    "def bot_response():\n",
    "  user_text = request.args.get(\"msg\")\n",
    "  return str(response(user_text))\n",
    "  \n",
    "  \n",
    "app.run()"
   ]
  },
  {
   "cell_type": "markdown",
   "metadata": {},
   "source": [
    "while results:\n",
    "            for i in intents['intents']:\n",
    "               \n",
    "                    if i['tag'] == results[0][0]:\n",
    "                        print('past context ',context, ' tag:', i['tag'])\n",
    "\n",
    "                        if not 'context_filter' in i or \\\n",
    "                            (userID in context and 'context_filter' in i and i['context_filter'] == context[userID]):\n",
    "                            if show_details: print ('in first if tag:', i['tag'])\n",
    "                            resp = random.choice(i['responses'])\n",
    "\n",
    "                        if 'context_filter' in i:\n",
    "                            if show_details: print('context_filter in second if : ', i['context_filter'])\n",
    "                            resp = random.choice(i['responses'])\n",
    "\n",
    "                            # set context for this intent if necessary\n",
    "                        if 'context_set' in i:\n",
    "                            if show_details: print ('context in third if : ', i['context_set'])\n",
    "                            context[userID] = i['context_set']\n",
    "                            print('new context ', context)\n",
    "\n",
    "                        if 'context_filter' in i:\n",
    "                            if show_details: print('context_filter in fourth if : ', i['context_filter'])\n",
    "\n",
    "\n",
    "                        return print('second  ' ,resp)\n"
   ]
  },
  {
   "cell_type": "code",
   "execution_count": null,
   "metadata": {
    "scrolled": true
   },
   "outputs": [],
   "source": [
    "response('hi')"
   ]
  },
  {
   "cell_type": "code",
   "execution_count": null,
   "metadata": {},
   "outputs": [],
   "source": [
    "response('hi')"
   ]
  },
  {
   "cell_type": "code",
   "execution_count": null,
   "metadata": {},
   "outputs": [],
   "source": [
    "response('im having problem with')"
   ]
  },
  {
   "cell_type": "code",
   "execution_count": null,
   "metadata": {},
   "outputs": [],
   "source": [
    "response('it does')"
   ]
  },
  {
   "cell_type": "code",
   "execution_count": null,
   "metadata": {},
   "outputs": [],
   "source": [
    "response('depression')"
   ]
  },
  {
   "cell_type": "code",
   "execution_count": null,
   "metadata": {},
   "outputs": [],
   "source": [
    "response('catastrophe')"
   ]
  },
  {
   "cell_type": "code",
   "execution_count": null,
   "metadata": {},
   "outputs": [],
   "source": [
    "response('catastrophe?')"
   ]
  },
  {
   "cell_type": "code",
   "execution_count": null,
   "metadata": {},
   "outputs": [],
   "source": [
    "response('yes')"
   ]
  },
  {
   "cell_type": "code",
   "execution_count": null,
   "metadata": {},
   "outputs": [],
   "source": [
    "response('want your help')"
   ]
  },
  {
   "cell_type": "code",
   "execution_count": null,
   "metadata": {},
   "outputs": [],
   "source": [
    "response('labels?')"
   ]
  },
  {
   "cell_type": "code",
   "execution_count": null,
   "metadata": {},
   "outputs": [],
   "source": [
    "response('challenge thought')"
   ]
  },
  {
   "cell_type": "code",
   "execution_count": null,
   "metadata": {},
   "outputs": [],
   "source": [
    "response('okay')"
   ]
  },
  {
   "cell_type": "code",
   "execution_count": null,
   "metadata": {},
   "outputs": [],
   "source": [
    "response('got it')"
   ]
  },
  {
   "cell_type": "code",
   "execution_count": null,
   "metadata": {},
   "outputs": [],
   "source": [
    "response('catastrophe?')"
   ]
  },
  {
   "cell_type": "code",
   "execution_count": null,
   "metadata": {},
   "outputs": [],
   "source": [
    "response('okay')"
   ]
  },
  {
   "cell_type": "code",
   "execution_count": null,
   "metadata": {},
   "outputs": [],
   "source": [
    "response('yes')"
   ]
  },
  {
   "cell_type": "code",
   "execution_count": null,
   "metadata": {},
   "outputs": [],
   "source": [
    "response('hi')"
   ]
  },
  {
   "cell_type": "code",
   "execution_count": null,
   "metadata": {},
   "outputs": [],
   "source": [
    "response('anxiety')"
   ]
  },
  {
   "cell_type": "code",
   "execution_count": null,
   "metadata": {},
   "outputs": [],
   "source": [
    "response('work on it')"
   ]
  },
  {
   "cell_type": "code",
   "execution_count": null,
   "metadata": {},
   "outputs": [],
   "source": [
    "response('challenge my thought')"
   ]
  },
  {
   "cell_type": "code",
   "execution_count": null,
   "metadata": {},
   "outputs": [],
   "source": [
    "response('i have this problem')"
   ]
  },
  {
   "cell_type": "code",
   "execution_count": null,
   "metadata": {},
   "outputs": [],
   "source": [
    "response('what is that?')"
   ]
  },
  {
   "cell_type": "code",
   "execution_count": null,
   "metadata": {},
   "outputs": [],
   "source": [
    "response('got it')"
   ]
  },
  {
   "cell_type": "code",
   "execution_count": null,
   "metadata": {},
   "outputs": [],
   "source": [
    "response('yes')"
   ]
  },
  {
   "cell_type": "code",
   "execution_count": null,
   "metadata": {},
   "outputs": [],
   "source": [
    "response('okay')"
   ]
  },
  {
   "cell_type": "code",
   "execution_count": null,
   "metadata": {},
   "outputs": [],
   "source": [
    "response('no')"
   ]
  },
  {
   "cell_type": "code",
   "execution_count": null,
   "metadata": {},
   "outputs": [],
   "source": [
    "response('no')"
   ]
  },
  {
   "cell_type": "code",
   "execution_count": null,
   "metadata": {},
   "outputs": [],
   "source": []
  }
 ],
 "metadata": {
  "kernelspec": {
   "display_name": "Python 3",
   "language": "python",
   "name": "python3"
  },
  "language_info": {
   "codemirror_mode": {
    "name": "ipython",
    "version": 3
   },
   "file_extension": ".py",
   "mimetype": "text/x-python",
   "name": "python",
   "nbconvert_exporter": "python",
   "pygments_lexer": "ipython3",
   "version": "3.8.3"
  }
 },
 "nbformat": 4,
 "nbformat_minor": 4
}
