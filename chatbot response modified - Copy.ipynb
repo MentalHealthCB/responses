{
 "cells": [
  {
   "cell_type": "code",
   "execution_count": 1,
   "metadata": {},
   "outputs": [
    {
     "name": "stdout",
     "output_type": "stream",
     "text": [
      "WARNING:tensorflow:From C:\\Users\\samit\\anaconda3\\envs\\myenv\\lib\\site-packages\\tensorflow\\python\\compat\\v2_compat.py:96: disable_resource_variables (from tensorflow.python.ops.variable_scope) is deprecated and will be removed in a future version.\n",
      "Instructions for updating:\n",
      "non-resource variables are not supported in the long term\n",
      "Scipy not supported!\n"
     ]
    }
   ],
   "source": [
    "import nltk\n",
    "from nltk.stem.lancaster import LancasterStemmer\n",
    "stemmer = LancasterStemmer()\n",
    "\n",
    "# things we need for Tensorflow\n",
    "import numpy as np\n",
    "import tflearn\n",
    "import tensorflow as tf\n",
    "import random"
   ]
  },
  {
   "cell_type": "code",
   "execution_count": 2,
   "metadata": {},
   "outputs": [],
   "source": [
    "# restore all of our data structures\n",
    "import pickle\n",
    "data = pickle.load( open( \"training_data\", \"rb\" ) )\n",
    "words = data['words']\n",
    "classes = data['classes']\n",
    "train_x = data['train_x']\n",
    "train_y = data['train_y']\n",
    "\n",
    "# import our chat-bot intents file\n",
    "import json\n",
    "with open('intents.json') as json_data:\n",
    "    intents = json.load(json_data)"
   ]
  },
  {
   "cell_type": "code",
   "execution_count": 3,
   "metadata": {},
   "outputs": [
    {
     "name": "stdout",
     "output_type": "stream",
     "text": [
      "WARNING:tensorflow:From C:\\Users\\samit\\anaconda3\\envs\\myenv\\lib\\site-packages\\tflearn\\initializations.py:165: calling TruncatedNormal.__init__ (from tensorflow.python.ops.init_ops) with dtype is deprecated and will be removed in a future version.\n",
      "Instructions for updating:\n",
      "Call initializer instance with the dtype argument instead of passing it to the constructor\n"
     ]
    }
   ],
   "source": [
    "# Build neural network\n",
    "net = tflearn.input_data(shape=[None, len(train_x[0])])\n",
    "net = tflearn.fully_connected(net, 8)\n",
    "net = tflearn.fully_connected(net, 8)\n",
    "net = tflearn.fully_connected(net, len(train_y[0]), activation='softmax')\n",
    "net = tflearn.regression(net)\n",
    "\n",
    "# Define model and setup tensorboard\n",
    "model = tflearn.DNN(net, tensorboard_dir='tflearn_logs')"
   ]
  },
  {
   "cell_type": "code",
   "execution_count": 4,
   "metadata": {},
   "outputs": [],
   "source": [
    "def clean_up_sentence(sentence):\n",
    "    # tokenize the pattern\n",
    "    sentence_words = nltk.word_tokenize(sentence)\n",
    "    # stem each word\n",
    "    sentence_words = [stemmer.stem(word.lower()) for word in sentence_words]\n",
    "    return sentence_words\n",
    "\n",
    "# return bag of words array: 0 or 1 for each word in the bag that exists in the sentence\n",
    "def bow(sentence, words, show_details=False):\n",
    "    # tokenize the pattern\n",
    "    sentence_words = clean_up_sentence(sentence)\n",
    "    # bag of words\n",
    "    bag = [0]*len(words)  \n",
    "    for s in sentence_words:\n",
    "        for i,w in enumerate(words):\n",
    "            if w == s: \n",
    "                bag[i] = 1\n",
    "                if show_details:\n",
    "                    print (\"found in bag: %s\" % w)\n",
    "\n",
    "    return(np.array(bag))"
   ]
  },
  {
   "cell_type": "code",
   "execution_count": 5,
   "metadata": {},
   "outputs": [
    {
     "name": "stdout",
     "output_type": "stream",
     "text": [
      "[0 0 0 0 0 0 0 0 0 0 0 0 0 0 0 0 0 0 0 0 0 0 0 0 0 0 0 0 0 0 0 0 0 0 0 0 0\n",
      " 0 0 0 0 0 0 0 0 0 0 0 0 0 0 0 0 0 0 0 1 0 0 0 0 0 0 0 0 0 0 0 0 0 0 0 0 0\n",
      " 0 0 0 0 0 0 0 0 0 0 0 0 0 0 0 0 0 0 0 0 0 0 0 0 0 0 0 0 0 0 0 0 0 0 0 1 0]\n",
      "['addiction', 'affirmation_distraction_addiction', 'anxiety', 'challenge_thought_anxiety', 'depression', 'explain_distraction_addiction', 'explainreccdist_depression', 'first_substance_addiction', 'go_plan_for_things', 'goodbye', 'greeting', 'how_wreck', 'ideas_wrecking', 'need_help', 'need_help_adiction', 'need_ideas_addiction', 'no_distraction_addiction', 'no_distraction_addiction_after', 'plan_for_thing', 'ques_to_q1_anxiety', 'question1_anxiety', 'question1_depression', 'question_to_question1_depression', 'question_to_question2_anxiety', 'question_to_question2_depression', 'question_to_question3_depression', 'questtion_to_question4_depression', 'stating_problem', 'thanks', 'the_end', 'the_end_bad', 'things_addiction', 'what_to_do_addiction2', 'work_on_it', 'work_on_it_anxiety', 'wrote_everything_addiction']\n"
     ]
    }
   ],
   "source": [
    "p = bow(\"is your shop open today?\", words)\n",
    "print (p)\n",
    "print (classes)"
   ]
  },
  {
   "cell_type": "code",
   "execution_count": 6,
   "metadata": {},
   "outputs": [
    {
     "name": "stdout",
     "output_type": "stream",
     "text": [
      "INFO:tensorflow:Restoring parameters from C:\\Users\\samit\\MACHINE LEARNING\\chatbot BE project\\New\\model.tflearn\n"
     ]
    }
   ],
   "source": [
    "# load our saved model\n",
    "model.load('./model.tflearn')"
   ]
  },
  {
   "cell_type": "code",
   "execution_count": 15,
   "metadata": {},
   "outputs": [],
   "source": [
    "yeah_dict = {'problem_got': ('categorize_problem', 'How would you categorize this issue 1.Depression, 2.Anxiety, 3.Addiction, 4.Angry, 5.Grief'), 'depressed':('depressed_1', 'So do you want my help with it or you just wanted to share?'), 'write_thought': ('questoques1recognized','Good job recognizing. Labels can weigh us down and squash our growth mindset') , 'catastrophe': ('makingUnderstandques2', 'Its like looking at your problems through a binoculars. But if you lower the binoculars you might see your problems from a more realistic point of view'), 'write_thought_anxiety': ('questoques1confirmed_anxiety','Thats common....but does not mean its good way to deal with pressure'), 'future_assuming':('future_assuming_explanation', 'You assume, if you attempt something it will turn out poorly'), 'distortion': ('gotchaques3', 'yeah with this distortion it can feel like destiny is weighing us down. This is called Overgeneralisation.'), 'emotionalreasoning': ('rewritethoughts','Nice spot!'), 'future_assuming': ('affirmation_anxiety','You need to understand you can not foresee the future'), 'distraction_addiction':('done_solution', 'sure, distraction it is (take to any site with fun activities or give them riddles)')}\n",
    "no_dict = {'problem_told_depression': ('catastrophe','Does Your Thought make a catastrophe out of a situation?'), 'catastrophe': ('distortion', 'Does it assume a continuing patterns of negativity or a never ending cycle of defeat?'),'distortion': ('emotionalreasoning', 'Does your thought suggest any emotional reasoning?'), 'write_thought_anxiety':('future_assuming', 'Is your thought future assuming?'), 'future_assuming': ('mind_reading', 'Is your thought mind reading?'), 'emotionalreasoning': ('rewritethoughts', 'Ok now the most crucial peice... please rewrite your negative thoughts so that its more realistic. what would be a kinder more balanced way to talk to yourself here?'), 'ideas_wrecking':('which_category', 'Sure ive got tips for handling relationships, places, things which would be helpful? We can do more than one')}\n",
    "okay_dict = {'depressed':('depressed_1', 'So do you want my help with it or you just wanted to share?'),'problem_got': ('categorize_problem','How would you categorize this issue 1.Angry, 2.Anxiety, 3.Depression'),'questoques1explained':('write_thought', 'So let me ask you again, does the thought attach any labels to you?'), 'questoques1recognized':('catastrophe', 'Does Your Thought make a catastrophe out of a situation?'), 'ques2explained': ('catastrophe', 'So let me ask you again, Does Your Thought make a catastrophe out of a situation?'),'makingUnderstandques2': ('distortion', 'Does it assume a continuing patterns of negativity or a never ending cycle of defeat?'),'ques3explained':('givingAName', 'This is often a recurring distortion for perfectionists'), 'everythingExplained':('distortion', 'Let me ask another way: are you assuming that the way something has turned out now, is also the way things will turn out in the future'), 'gotchaques3':('emotionalreasoning', 'Does your thought suggest any emotional reasoning?'), 'ques4explained':('emotionalreasoning', 'sO WHAT DO YOU THINK IS THERE ANY emotional reasoning'), 'questoques1explained_anxiety':('write_thought_anxiety', 'So let me ask you again, does the thought serve a purpose?'), 'questoques1confirmed_anxiety':('future_assuming', 'Is your thought future assuming?'), 'future_assuming_explanation':('future_assuming', 'So let me ask you again, is your thought future assuming?'), 'affirmation_anxiety':('mind_reading', 'Is your thought mind reading?'), 'addiction':('what_to_do_adiction', 'OK, did you want my help with this right now, or did you just want me to know about it?'), 'help_addiction':('distraction_addiction', 'well first up we could try a distraction'), 'explain_distraction':('distraction_addiction', 'it wont solve the problem but it can help dial down the intensity of a craving'), 'distraction_addiction':('done_solution', 'sure, distraction it is (take to any site with fun activities or give them riddles)'), 'no_distraction':('no_distraction2', 'first we ll do a guided imagery exercise together, imaging your substance as an island. Then we ll identify everything that allows you to keep going back. Those are the ships we ll be wrecking.'), 'no_distraction2':('no_distraction3','then Ill ask you to do the hard ad important work of committing to wrecking those ships'), 'wrecking_explained':('first_substance', 'okay buckle in! First whats the substance you want to change your relationship with?'), 'got_first_substance': ('look_island', 'think about what the island looks like'), 'look_island': ('who_island', 'imagine whos on the island with you. maybe you are alone.'), 'who_island': ('ways_island', 'Now think of all the ways you get to your island. Like where you use it, the people you use with, all the equipments or materials you associate with it, and everything that triggers cravings'), 'ways_island':('write_ships','write it all here'), 'wrote_ships':('destroy_ships', 'I want you to envision your ships colliding. Hear the crash and the creak of wood. and watch them spin down in a whirlpool until they are sucked to the bottom of the sea out of your grasp'), 'destroy_ships':('next_job','Great job with the imagery we ve come a long way and we still have some work ahead of us'), 'next_job':('ideas_wrecking', 'So do you have any ideas about a strategy for wrecking your ships'), 'solve_things':('sharing_plan_for_things', 'ok share your plan with me here'), 'last_challenge_things':('the_end_things', 'i know this was a long exercise so thanks for sticking it out nd making a plan with me. How are you feeling after meeting this strategy?'), 'no_distraction3':('first_substance', \n",
    "'okay buckle in! First whats the substance you n=want to change your relationship with?'), '':('','')}"
   ]
  },
  {
   "cell_type": "code",
   "execution_count": 17,
   "metadata": {},
   "outputs": [],
   "source": [
    "# create a data structure to hold user context\n",
    "context = {}\n",
    "\n",
    "ERROR_THRESHOLD = 0.25\n",
    "def classify(sentence):\n",
    "    # generate probabilities from the model\n",
    "    results = model.predict([bow(sentence, words)])[0]\n",
    "    \n",
    "    # filter out predictions below a threshold\n",
    "    results = [[i,r] for i,r in enumerate(results) if r>ERROR_THRESHOLD]\n",
    "    # sort by strength of probability\n",
    "    results.sort(key=lambda x: x[1], reverse=True)\n",
    "    return_list = []\n",
    "    for r in results:\n",
    "        return_list.append((classes[r[0]], r[1]))\n",
    "    # return tuple of intent and probability\n",
    "    return return_list\n",
    "\n",
    "def response(userID='123', show_details=True):\n",
    "    while True:\n",
    "        resp = ''\n",
    "        sentence = input()\n",
    "        if sentence == 'bye':\n",
    "            break\n",
    "        results = classify(sentence)\n",
    "        r1 = results[0]\n",
    "        try:\n",
    "            past_context = context[userID]\n",
    "        except:\n",
    "            pass\n",
    "        try:            # find a tag matching the first result\n",
    "            if sentence in ['yes','yeah']:\n",
    "                #print('in yeah loop')\n",
    "                tple = yeah_dict[context[userID]]\n",
    "                #print(tple)\n",
    "                resp = tple[1]\n",
    "                context[userID] = tple[0]\n",
    "                    #if i['tag'] == tag:\n",
    "                        #resp = random.choice(i['responses'])\n",
    "                        #if 'context_set' in i:\n",
    "                            #context[userID] = i['context_set']\n",
    "                        #print('new context  ', context[userID])\n",
    "                    #if 'context_filter' in i:\n",
    "                        #print('context set in first if : ',context[userID])\n",
    "                        #if context[userID]==i['context_filter']:\n",
    "                            #print('response in second if :', i['responses'])\n",
    "                            #resp = random.choice(i['responses'])\n",
    "                        #if 'context_set' in i:\n",
    "                            #if show_details: print ('context in third if :', i['context_set'])\n",
    "                            #context[userID] = i['context_set']\n",
    "\n",
    "                print('first yeah  ',resp)\n",
    "                continue\n",
    "        except:\n",
    "            #print('context_set ',context[userID],' past_context ',past_context)\n",
    "            print('sorry I didnt get you. Will you please be a little clear')\n",
    "            continue\n",
    "        try:\n",
    "            if sentence in ['no','nope', 'not at all']:\n",
    "                #print('in no loop')\n",
    "                tple = no_dict[context[userID]]\n",
    "                #print(tple)\n",
    "                resp = tple[1]\n",
    "                context[userID] = tple[0]\n",
    "        #if i['tag'] == tag:\n",
    "            #resp = random.choice(i['responses'])\n",
    "            #if 'context_set' in i:\n",
    "                #context[userID] = i['context_set']\n",
    "            #print('new context  ', context[userID])\n",
    "                    #if 'context_filter' in i:\n",
    "                        #print('context set in first if : ',context[userID])\n",
    "                        #if context[userID]==i['context_filter']:\n",
    "                            #print('response in second if :', i['responses'])\n",
    "                            #resp = random.choice(i['responses'])\n",
    "                        #if 'context_set' in i:\n",
    "                            #if show_details: print ('context in third if :', i['context_set'])\n",
    "                            #context[userID] = i['context_set']\n",
    "\n",
    "                print('first  ',resp)\n",
    "                continue\n",
    "        except:\n",
    "            #print('context_set ',context[userID],' past_context ',past_context)\n",
    "            print('sorry I didnt get you. Will you please be a little clear')\n",
    "            continue\n",
    "\n",
    "        try:\n",
    "            if sentence in ['okay','cool','true','sure', 'gotcha', 'it is', 'got it', 'alright', 'it does']:\n",
    "                #print('in okay loop')\n",
    "                \n",
    "                print('context_filter ', context[userID])\n",
    "                tple = okay_dict[context[userID]]\n",
    "                if tple[0] == 'wrecking_explained' or tple[0] == 'no_distraction3':\n",
    "                    \n",
    "                    substance = input('okay buckle in! First whats the substance you want to change your relationship with? ')\n",
    "                    print('I want you to think of using it as an island')\n",
    "                    context[userID] = 'got_first_substance'\n",
    "                    continue\n",
    "                elif tple[0] == 'ways_island':\n",
    "                    ships = input('write it all here ')\n",
    "                    print('these are the ships you are wrecking')\n",
    "                    context[userID] = 'wrote_ships'\n",
    "                    continue\n",
    "                else:                    \n",
    "                #print(tple)\n",
    "                    resp = tple[1]\n",
    "                    context[userID] = tple[0]\n",
    "                    print('new context ', context[userID])\n",
    "        #if i['tag'] == tag:\n",
    "            #resp = random.choice(i['responses'])\n",
    "            #if 'context_set' in i:\n",
    "                #context[userID] = i['context_set']\n",
    "            #print('new context  ', context[userID])\n",
    "                    #if 'context_filter' in i:\n",
    "                        #print('context set in first if : ',context[userID])\n",
    "                        #if context[userID]==i['context_filter']:\n",
    "                            #print('response in second if :', i['responses'])\n",
    "                            #resp = random.choice(i['responses'])\n",
    "                        #if 'context_set' in i:\n",
    "                            #if show_details: print ('context in third if :', i['context_set'])\n",
    "                            #context[userID] = i['context_set']\n",
    "\n",
    "                print('first  ',resp)\n",
    "                continue\n",
    "        except:\n",
    "            #print('context_set ',context[userID],' past_context ',past_context)\n",
    "            print('sorry I didnt get you. Will you please be a little clear')\n",
    "            continue\n",
    "    \n",
    "    \n",
    "    \n",
    "    #Problem input\n",
    "        if r1[0] == 'need_help':\n",
    "            context[userID] = 'problem_got'\n",
    "            problem = input(\"okay tell me your problem \")\n",
    "            print(\"Ouch that sucks\")\n",
    "            continue\n",
    "        \n",
    "    \n",
    "    \n",
    "        \n",
    "    # if we have a classification then find the matching intent tag\n",
    "        if results:\n",
    "            print(results)\n",
    "        # loop as long as there are matches to process\n",
    "            try:\n",
    "                for i in results:\n",
    "                    print(i)\n",
    "                \n",
    "                    for j in intents['intents']:\n",
    "                        if i[0]==j['tag']:\n",
    "                            if not 'context_filter' in j or \\\n",
    "                                (userID in context and 'context_filter' in j and j['context_filter'] == context[userID]):\n",
    "                                print('in second if')\n",
    "                                if show_details: print ('in first if tag:', j['tag'])\n",
    "                                resp = random.choice(j['responses'])\n",
    "                                if 'context_set' in j: \n",
    "                                    context[userID] = j['context_set']\n",
    "                                    print('new context  ', context[userID])\n",
    "                if resp == '':\n",
    "                    print('sorry I didnt get you. Will you please be a little clear')\n",
    "                    continue\n",
    "                else: \n",
    "                    print('fourth ',resp)\n",
    "                    continue\n",
    "                                \n",
    "            except:\n",
    "                    #try:\n",
    "                        #print('context_set ',context[userID],' past_context ',past_context)\n",
    "                    #except:\n",
    "                        #pass\n",
    "                    print('sorry I didnt get you. Will you please be a little clear')\n",
    "                    continue\n",
    "\n",
    "        "
   ]
  },
  {
   "cell_type": "markdown",
   "metadata": {},
   "source": [
    "else:\n",
    "                    print('in else loop')\n",
    "                    if 'context_filter' in j and j['context_filter'] == context[userID]:\n",
    "                        resp = random.choice(j['responses'])\n",
    "                        print('tag: ', j['tag'])\n",
    "                        if 'context_set' in j: \n",
    "                            context[userID] = j['context_set']\n",
    "                            print('new context  ', context[userID])\n",
    "                        return(resp)"
   ]
  },
  {
   "cell_type": "markdown",
   "metadata": {},
   "source": [
    "while results:\n",
    "            for i in intents['intents']:\n",
    "               \n",
    "                    if i['tag'] == results[0][0]:\n",
    "                        print('past context ',context, ' tag:', i['tag'])\n",
    "\n",
    "                        if not 'context_filter' in i or \\\n",
    "                            (userID in context and 'context_filter' in i and i['context_filter'] == context[userID]):\n",
    "                            if show_details: print ('in first if tag:', i['tag'])\n",
    "                            resp = random.choice(i['responses'])\n",
    "\n",
    "                        if 'context_filter' in i:\n",
    "                            if show_details: print('context_filter in second if : ', i['context_filter'])\n",
    "                            resp = random.choice(i['responses'])\n",
    "\n",
    "                            # set context for this intent if necessary\n",
    "                        if 'context_set' in i:\n",
    "                            if show_details: print ('context in third if : ', i['context_set'])\n",
    "                            context[userID] = i['context_set']\n",
    "                            print('new context ', context)\n",
    "\n",
    "                        if 'context_filter' in i:\n",
    "                            if show_details: print('context_filter in fourth if : ', i['context_filter'])\n",
    "\n",
    "\n",
    "                        return print('second  ' ,resp)\n"
   ]
  },
  {
   "cell_type": "code",
   "execution_count": 18,
   "metadata": {
    "scrolled": true
   },
   "outputs": [
    {
     "name": "stdout",
     "output_type": "stream",
     "text": [
      "hi\n",
      "[('greeting', 0.9715257)]\n",
      "('greeting', 0.9715257)\n",
      "in second if\n",
      "in first if tag: greeting\n",
      "fourth  Hello, How can I help you?\n",
      "help me feel better\n",
      "okay tell me your problem ond sadj as\n",
      "Ouch that sucks\n",
      "yes\n",
      "first yeah   How would you categorize this issue 1.Depression, 2.Anxiety, 3.Addiction, 4.Angry, 5.Grief\n",
      "addiction\n",
      "[('addiction', 0.9913141)]\n",
      "('addiction', 0.9913141)\n",
      "in second if\n",
      "in first if tag: addiction\n",
      "new context   addiction\n",
      "fourth  I know this can be really difficult process and im here to help you through the next few moments and long term as well\n",
      "okay\n",
      "context_filter  addiction\n",
      "new context  what_to_do_adiction\n",
      "first   OK, did you want my help with this right now, or did you just want me to know about it?\n",
      "help\n",
      "[('need_help_adiction', 0.3689158)]\n",
      "('need_help_adiction', 0.3689158)\n",
      "in second if\n",
      "in first if tag: need_help_adiction\n",
      "new context   help_addiction\n",
      "fourth  okay there are few ways we can go about it\n",
      "what\n",
      "[('what_to_do_addiction2', 0.9299053)]\n",
      "('what_to_do_addiction2', 0.9299053)\n",
      "in second if\n",
      "in first if tag: what_to_do_addiction2\n",
      "new context   distraction_addiction\n",
      "fourth  well first up we could try a distraction\n",
      "something else\n",
      "[('no_distraction_addiction_after', 0.52888733), ('no_distraction_addiction', 0.4672634)]\n",
      "('no_distraction_addiction_after', 0.52888733)\n",
      "('no_distraction_addiction', 0.4672634)\n",
      "in second if\n",
      "in first if tag: no_distraction_addiction\n",
      "new context   no_distraction\n",
      "fourth  No worries, I have a powerful tool that helps you cut ties with things, places or people that might tempt you to use substances\n",
      "okay\n",
      "context_filter  no_distraction\n",
      "new context  no_distraction2\n",
      "first   first we ll do a guided imagery exercise together, imaging your substance as an island. Then we ll identify everything that allows you to keep going back. Those are the ships we ll be wrecking.\n",
      "okay\n",
      "context_filter  no_distraction2\n",
      "okay buckle in! First whats the substance you want to change your relationship with? iwdb \n",
      "I want you to think of using it as an island\n",
      "okay\n",
      "context_filter  got_first_substance\n",
      "new context  look_island\n",
      "first   think about what the island looks like\n",
      "okay\n",
      "context_filter  look_island\n",
      "new context  who_island\n",
      "first   imagine whos on the island with you. maybe you are alone.\n",
      "okay\n",
      "context_filter  who_island\n",
      "write it all here ibwhd qwojdn asdjka \n",
      "these are the ships you are wrecking\n",
      "okay\n",
      "context_filter  wrote_ships\n",
      "new context  destroy_ships\n",
      "first   I want you to envision your ships colliding. Hear the crash and the creak of wood. and watch them spin down in a whirlpool until they are sucked to the bottom of the sea out of your grasp\n",
      "oky\n",
      "[('what_to_do_addiction2', 0.42935023), ('ideas_wrecking', 0.29888415)]\n",
      "('what_to_do_addiction2', 0.42935023)\n",
      "('ideas_wrecking', 0.29888415)\n",
      "sorry I didnt get you. Will you please be a little clear\n",
      "okay\n",
      "context_filter  destroy_ships\n",
      "new context  next_job\n",
      "first   Great job with the imagery we ve come a long way and we still have some work ahead of us\n",
      "okay\n",
      "context_filter  next_job\n",
      "new context  ideas_wrecking\n",
      "first   So do you have any ideas about a strategy for wrecking your ships\n",
      "no\n",
      "first   Sure ive got tips for handling relationships, places, things which would be helpful? We can do more than one\n",
      "things\n",
      "[('things_addiction', 0.9961499)]\n",
      "('things_addiction', 0.9961499)\n",
      "in second if\n",
      "in first if tag: things_addiction\n",
      "new context   solve_things\n",
      "fourth  sure a lot of your options might look like throwing the objects away. you could try giving them to a friend. Depending on what you are getting rid of, like certain pils, you may be able to donate them or call a cllection service\n",
      "okay\n",
      "context_filter  solve_things\n",
      "new context  sharing_plan_for_things\n",
      "first   ok share your plan with me here\n",
      "jkwqn dqoiwdo qwsndask dqsd\n",
      "[('what_to_do_addiction2', 0.42935023), ('ideas_wrecking', 0.29888415)]\n",
      "('what_to_do_addiction2', 0.42935023)\n",
      "('ideas_wrecking', 0.29888415)\n",
      "sorry I didnt get you. Will you please be a little clear\n",
      "my plan is\n",
      "[('plan_for_thing', 0.90623236)]\n",
      "('plan_for_thing', 0.90623236)\n",
      "sorry I didnt get you. Will you please be a little clear\n",
      "my plan for things is\n",
      "[('plan_for_thing', 0.999642)]\n",
      "('plan_for_thing', 0.999642)\n",
      "sorry I didnt get you. Will you please be a little clear\n"
     ]
    },
    {
     "ename": "KeyboardInterrupt",
     "evalue": "Interrupted by user",
     "output_type": "error",
     "traceback": [
      "\u001b[1;31m---------------------------------------------------------------------------\u001b[0m",
      "\u001b[1;31mKeyboardInterrupt\u001b[0m                         Traceback (most recent call last)",
      "\u001b[1;32m<ipython-input-18-8a16bcf36b14>\u001b[0m in \u001b[0;36m<module>\u001b[1;34m\u001b[0m\n\u001b[1;32m----> 1\u001b[1;33m \u001b[0mresponse\u001b[0m\u001b[1;33m(\u001b[0m\u001b[1;33m)\u001b[0m\u001b[1;33m\u001b[0m\u001b[1;33m\u001b[0m\u001b[0m\n\u001b[0m",
      "\u001b[1;32m<ipython-input-17-abd7cc2d05eb>\u001b[0m in \u001b[0;36mresponse\u001b[1;34m(userID, show_details)\u001b[0m\n\u001b[0;32m     20\u001b[0m     \u001b[1;32mwhile\u001b[0m \u001b[1;32mTrue\u001b[0m\u001b[1;33m:\u001b[0m\u001b[1;33m\u001b[0m\u001b[1;33m\u001b[0m\u001b[0m\n\u001b[0;32m     21\u001b[0m         \u001b[0mresp\u001b[0m \u001b[1;33m=\u001b[0m \u001b[1;34m''\u001b[0m\u001b[1;33m\u001b[0m\u001b[1;33m\u001b[0m\u001b[0m\n\u001b[1;32m---> 22\u001b[1;33m         \u001b[0msentence\u001b[0m \u001b[1;33m=\u001b[0m \u001b[0minput\u001b[0m\u001b[1;33m(\u001b[0m\u001b[1;33m)\u001b[0m\u001b[1;33m\u001b[0m\u001b[1;33m\u001b[0m\u001b[0m\n\u001b[0m\u001b[0;32m     23\u001b[0m         \u001b[1;32mif\u001b[0m \u001b[0msentence\u001b[0m \u001b[1;33m==\u001b[0m \u001b[1;34m'bye'\u001b[0m\u001b[1;33m:\u001b[0m\u001b[1;33m\u001b[0m\u001b[1;33m\u001b[0m\u001b[0m\n\u001b[0;32m     24\u001b[0m             \u001b[1;32mbreak\u001b[0m\u001b[1;33m\u001b[0m\u001b[1;33m\u001b[0m\u001b[0m\n",
      "\u001b[1;32m~\\anaconda3\\envs\\myenv\\lib\\site-packages\\ipykernel\\kernelbase.py\u001b[0m in \u001b[0;36mraw_input\u001b[1;34m(self, prompt)\u001b[0m\n\u001b[0;32m    861\u001b[0m             \u001b[0mself\u001b[0m\u001b[1;33m.\u001b[0m\u001b[0m_parent_ident\u001b[0m\u001b[1;33m,\u001b[0m\u001b[1;33m\u001b[0m\u001b[1;33m\u001b[0m\u001b[0m\n\u001b[0;32m    862\u001b[0m             \u001b[0mself\u001b[0m\u001b[1;33m.\u001b[0m\u001b[0m_parent_header\u001b[0m\u001b[1;33m,\u001b[0m\u001b[1;33m\u001b[0m\u001b[1;33m\u001b[0m\u001b[0m\n\u001b[1;32m--> 863\u001b[1;33m             \u001b[0mpassword\u001b[0m\u001b[1;33m=\u001b[0m\u001b[1;32mFalse\u001b[0m\u001b[1;33m,\u001b[0m\u001b[1;33m\u001b[0m\u001b[1;33m\u001b[0m\u001b[0m\n\u001b[0m\u001b[0;32m    864\u001b[0m         )\n\u001b[0;32m    865\u001b[0m \u001b[1;33m\u001b[0m\u001b[0m\n",
      "\u001b[1;32m~\\anaconda3\\envs\\myenv\\lib\\site-packages\\ipykernel\\kernelbase.py\u001b[0m in \u001b[0;36m_input_request\u001b[1;34m(self, prompt, ident, parent, password)\u001b[0m\n\u001b[0;32m    902\u001b[0m             \u001b[1;32mexcept\u001b[0m \u001b[0mKeyboardInterrupt\u001b[0m\u001b[1;33m:\u001b[0m\u001b[1;33m\u001b[0m\u001b[1;33m\u001b[0m\u001b[0m\n\u001b[0;32m    903\u001b[0m                 \u001b[1;31m# re-raise KeyboardInterrupt, to truncate traceback\u001b[0m\u001b[1;33m\u001b[0m\u001b[1;33m\u001b[0m\u001b[1;33m\u001b[0m\u001b[0m\n\u001b[1;32m--> 904\u001b[1;33m                 \u001b[1;32mraise\u001b[0m \u001b[0mKeyboardInterrupt\u001b[0m\u001b[1;33m(\u001b[0m\u001b[1;34m\"Interrupted by user\"\u001b[0m\u001b[1;33m)\u001b[0m \u001b[1;32mfrom\u001b[0m \u001b[1;32mNone\u001b[0m\u001b[1;33m\u001b[0m\u001b[1;33m\u001b[0m\u001b[0m\n\u001b[0m\u001b[0;32m    905\u001b[0m             \u001b[1;32mexcept\u001b[0m \u001b[0mException\u001b[0m \u001b[1;32mas\u001b[0m \u001b[0me\u001b[0m\u001b[1;33m:\u001b[0m\u001b[1;33m\u001b[0m\u001b[1;33m\u001b[0m\u001b[0m\n\u001b[0;32m    906\u001b[0m                 \u001b[0mself\u001b[0m\u001b[1;33m.\u001b[0m\u001b[0mlog\u001b[0m\u001b[1;33m.\u001b[0m\u001b[0mwarning\u001b[0m\u001b[1;33m(\u001b[0m\u001b[1;34m\"Invalid Message:\"\u001b[0m\u001b[1;33m,\u001b[0m \u001b[0mexc_info\u001b[0m\u001b[1;33m=\u001b[0m\u001b[1;32mTrue\u001b[0m\u001b[1;33m)\u001b[0m\u001b[1;33m\u001b[0m\u001b[1;33m\u001b[0m\u001b[0m\n",
      "\u001b[1;31mKeyboardInterrupt\u001b[0m: Interrupted by user"
     ]
    }
   ],
   "source": [
    "response()"
   ]
  },
  {
   "cell_type": "code",
   "execution_count": null,
   "metadata": {},
   "outputs": [],
   "source": [
    "response('help me feel better')"
   ]
  },
  {
   "cell_type": "code",
   "execution_count": null,
   "metadata": {},
   "outputs": [],
   "source": [
    "response('im having problem with')"
   ]
  },
  {
   "cell_type": "code",
   "execution_count": null,
   "metadata": {},
   "outputs": [],
   "source": [
    "response('it does')"
   ]
  },
  {
   "cell_type": "code",
   "execution_count": null,
   "metadata": {},
   "outputs": [],
   "source": [
    "response('depression')"
   ]
  },
  {
   "cell_type": "code",
   "execution_count": null,
   "metadata": {},
   "outputs": [],
   "source": [
    "response('catastrophe')"
   ]
  },
  {
   "cell_type": "code",
   "execution_count": null,
   "metadata": {},
   "outputs": [],
   "source": [
    "response('catastrophe?')"
   ]
  },
  {
   "cell_type": "code",
   "execution_count": null,
   "metadata": {},
   "outputs": [],
   "source": [
    "response('yes')"
   ]
  },
  {
   "cell_type": "code",
   "execution_count": null,
   "metadata": {},
   "outputs": [],
   "source": [
    "response('want your help')"
   ]
  },
  {
   "cell_type": "code",
   "execution_count": null,
   "metadata": {},
   "outputs": [],
   "source": [
    "response('labels?')"
   ]
  },
  {
   "cell_type": "code",
   "execution_count": null,
   "metadata": {},
   "outputs": [],
   "source": [
    "response('challenge thought')"
   ]
  },
  {
   "cell_type": "code",
   "execution_count": null,
   "metadata": {},
   "outputs": [],
   "source": [
    "response('okay')"
   ]
  },
  {
   "cell_type": "code",
   "execution_count": null,
   "metadata": {},
   "outputs": [],
   "source": [
    "response('got it')"
   ]
  },
  {
   "cell_type": "code",
   "execution_count": null,
   "metadata": {},
   "outputs": [],
   "source": [
    "response('catastrophe?')"
   ]
  },
  {
   "cell_type": "code",
   "execution_count": null,
   "metadata": {},
   "outputs": [],
   "source": [
    "response('okay')"
   ]
  },
  {
   "cell_type": "code",
   "execution_count": null,
   "metadata": {},
   "outputs": [],
   "source": [
    "response('yes')"
   ]
  },
  {
   "cell_type": "code",
   "execution_count": null,
   "metadata": {},
   "outputs": [],
   "source": [
    "response('hi')"
   ]
  },
  {
   "cell_type": "code",
   "execution_count": null,
   "metadata": {},
   "outputs": [],
   "source": [
    "response('anxiety')"
   ]
  },
  {
   "cell_type": "code",
   "execution_count": null,
   "metadata": {},
   "outputs": [],
   "source": [
    "response('work on it')"
   ]
  },
  {
   "cell_type": "code",
   "execution_count": null,
   "metadata": {},
   "outputs": [],
   "source": [
    "response('challenge my thought')"
   ]
  },
  {
   "cell_type": "code",
   "execution_count": null,
   "metadata": {},
   "outputs": [],
   "source": [
    "response('i have this problem')"
   ]
  },
  {
   "cell_type": "code",
   "execution_count": null,
   "metadata": {},
   "outputs": [],
   "source": [
    "response('what is that?')"
   ]
  },
  {
   "cell_type": "code",
   "execution_count": null,
   "metadata": {},
   "outputs": [],
   "source": [
    "response('got it')"
   ]
  },
  {
   "cell_type": "code",
   "execution_count": null,
   "metadata": {},
   "outputs": [],
   "source": [
    "response('yes')"
   ]
  },
  {
   "cell_type": "code",
   "execution_count": null,
   "metadata": {},
   "outputs": [],
   "source": [
    "response('okay')"
   ]
  },
  {
   "cell_type": "code",
   "execution_count": null,
   "metadata": {},
   "outputs": [],
   "source": [
    "response('no')"
   ]
  },
  {
   "cell_type": "code",
   "execution_count": null,
   "metadata": {},
   "outputs": [],
   "source": [
    "response('no')"
   ]
  },
  {
   "cell_type": "code",
   "execution_count": null,
   "metadata": {},
   "outputs": [],
   "source": []
  }
 ],
 "metadata": {
  "kernelspec": {
   "display_name": "Python 3",
   "language": "python",
   "name": "python3"
  },
  "language_info": {
   "codemirror_mode": {
    "name": "ipython",
    "version": 3
   },
   "file_extension": ".py",
   "mimetype": "text/x-python",
   "name": "python",
   "nbconvert_exporter": "python",
   "pygments_lexer": "ipython3",
   "version": "3.6.12"
  }
 },
 "nbformat": 4,
 "nbformat_minor": 4
}
